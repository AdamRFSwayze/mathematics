{
 "cells": [
  {
   "cell_type": "markdown",
   "metadata": {},
   "source": [
    "# Cat and Mouse in a House"
   ]
  },
  {
   "cell_type": "code",
   "execution_count": 48,
   "metadata": {
    "collapsed": false
   },
   "outputs": [],
   "source": [
    "from header import *\n",
    "%matplotlib inline\n",
    "import matplotlib.pyplot as plt"
   ]
  },
  {
   "cell_type": "markdown",
   "metadata": {},
   "source": [
    "Nez the mouse is lost in the house below.\n",
    "\n",
    "<img src=\"house.png\", width=169, height=239 alt=\"house\">\n",
    "\n",
    "He searches for his hole via simple random walk - he randomly jumps to any of the rooms adjacent to his current room with equal probability. Nez’s hole is in room 8; he will stay here (in safety) if he ever makes it. However, Brodie the cat lives in room 6 - she will eat Nez if he enters her room. Clearly, Nez will eventually be “absorbed”, either into his hole or into Brodie’s belly.\n",
    "Consider the following scenarios:\n",
    "1. Nez starts in room 0\n",
    "2. Nez starts in room 1\n",
    "3. Nez starts in room 5\n",
    "\n",
    "For each scenario, answer the folliowing 2 questions.\n",
    "1. What is the probability that Nez gets eaten? What is the probabilty that Nez gets home safely? (aka - where is he absorbed)\n",
    "2. How many moves does he make before he gets “absorbed”? (aka - when is he absorbed) Please give the average absorption time AND plot a histogram of the distribution of absorption times (showing what proportion of samples get absorbed after 1 jump, 2 jumps, 3 jumps, etc). Do a search for creating histograms in python - you will likely want to use the matplotlib package."
   ]
  },
  {
   "cell_type": "code",
   "execution_count": 21,
   "metadata": {
    "collapsed": true
   },
   "outputs": [],
   "source": [
    "def architecture_check_passed(transition_matrix, initial_distribution_matrix):\n",
    "    num_of_states = transition_matrix.shape[0]\n",
    "    if initial_distribution_matrix.shape[0] != num_of_states:\n",
    "        #print(\"Transition matrix and initial distribution dimensions don't match\")\n",
    "        return False\n",
    "\n",
    "    row_sums  = np.sum(transition_matrix, 1)\n",
    "    should_be = np.ones_like(row_sums)\n",
    "    if np.allclose(row_sums, should_be) == False:\n",
    "        #print('Rows of transition matrix do not all sum to 1')\n",
    "        return False\n",
    "    return True"
   ]
  },
  {
   "cell_type": "code",
   "execution_count": 73,
   "metadata": {
    "collapsed": true
   },
   "outputs": [],
   "source": [
    "def sample_evolution(initial_parameters):\n",
    "    # unpack list\n",
    "    num_of_steps                = initial_parameters[0]\n",
    "    num_of_records              = initial_parameters[1]\n",
    "    num_of_states               = initial_parameters[2]\n",
    "    num_of_samples              = initial_parameters[3]\n",
    "    transition_matrix           = initial_parameters[4]\n",
    "    initial_distribution_matrix = initial_parameters[5]\n",
    "    \n",
    "    ### -------------- set stage for simulation -------------- ###\n",
    "    # create empirical probability distribution function\n",
    "    epdf    = np.zeros([num_of_records, num_of_states], dtype = float)\n",
    "    # initial the epdf by writing the initial distribution matrix to epdf\n",
    "    epdf[0] = initial_distribution_matrix[:]\n",
    "    #printltx(r\"initialized epdf = \" + ltxmtx(epdf))\n",
    "    \n",
    "    scaled_initial_distribution_matrix = np.rint(initial_distribution_matrix*num_of_samples).astype(int)\n",
    "    simulation_ledger                  = np.zeros([num_of_records, num_of_samples], dtype = int)\n",
    "\n",
    "    # initialize simulation ledger by distributing probabilities\n",
    "    # from the initial distribution matrix to the sample population\n",
    "    simulation_ledger_index_1 = 0\n",
    "    for state_index in range(num_of_states):\n",
    "        simulation_ledger_index_2 = simulation_ledger_index_1 + scaled_initial_distribution_matrix[state_index]\n",
    "        simulation_ledger[0, simulation_ledger_index_1:simulation_ledger_index_2] = state_index\n",
    "        simulation_ledger_index_1 = simulation_ledger_index_2\n",
    "    # shuffle the columns in the first row\n",
    "    np.random.shuffle(simulation_ledger[0])\n",
    "    \n",
    "    ### -------------- run the simulation -------------- ###\n",
    "    absorption_states = [6, 8]\n",
    "    # vector to record how many steps until first return to an absorption state\n",
    "    first_return_absorption = np.zeros(num_of_samples, dtype = int)\n",
    "    for step in range(num_of_steps):\n",
    "        # \"step\" here refers to the location with respect to the number of records\n",
    "        # since we're looping through the same array\n",
    "        current_step = step % num_of_records\n",
    "        next_step    = (step + 1) % num_of_records\n",
    "        for sample in range(num_of_samples):\n",
    "            current_state      = simulation_ledger[current_step, sample]\n",
    "            # choose random number between 0 and 1\n",
    "            random_probability = np.random.rand()\n",
    "            # randomly decide which state sample goes to next\n",
    "            for next_state in range(num_of_states):\n",
    "                random_probability -= transition_matrix[current_state, next_state]\n",
    "                if random_probability < 0:\n",
    "                    simulation_ledger[next_step, sample] = next_state\n",
    "                    if next_state not in absorption_states:                        \n",
    "                        first_return_absorption[sample] += 1\n",
    "                    break\n",
    "        epdf[next_step, :] = np.histogram(simulation_ledger[next_step, :], \\\n",
    "                                          normed = True, bins = range(num_of_states + 1))[0]\n",
    "    \n",
    "    average_absorption_time = np.sum(first_return_absorption) / num_of_samples\n",
    "    printltx(r\"Average absorption time is \" + str(average_absorption_time))\n",
    "    plt.title('Distribution of Absorption Times')\n",
    "    plt.hist(first_return_absorption, bins = range(np.max(first_return_absorption)))\n",
    "    plt.xlabel('jumps')\n",
    "    plt.ylabel('frequency')\n",
    "    plt.show()\n",
    "    \n",
    "    # right now, the last distribution is not necessarily on the bottom of the epdf matrix;\n",
    "    # so, the following code rearranges the rows of the matrix to make sure the final distribution is on bottom\n",
    "    epdf = np.roll(epdf, num_of_records - next_step - 1, axis = 0)\n",
    "    return epdf"
   ]
  },
  {
   "cell_type": "code",
   "execution_count": 23,
   "metadata": {
    "collapsed": true
   },
   "outputs": [],
   "source": [
    "def matrix_multiplication_evolution(initial_parameters):\n",
    "    # unpack list\n",
    "    num_of_steps                = initial_parameters[0]\n",
    "    num_of_records              = initial_parameters[1]\n",
    "    num_of_states               = initial_parameters[2]\n",
    "    transition_matrix           = initial_parameters[3]\n",
    "    initial_distribution_matrix = initial_parameters[4]\n",
    "    \n",
    "    ### -------------- set stage for simulation -------------- ###\n",
    "    # create ________ probability distribution function\n",
    "    tpdf    = np.zeros([num_of_records, num_of_states], dtype = float)\n",
    "    # initialize the tpdf by writing the initial distribution matrix to tpdf\n",
    "    tpdf[0] = initial_distribution_matrix[:]\n",
    "    printltx(r\"initialized tpdf = \" + ltxmtx(tpdf))\n",
    "    \n",
    "    ### -------------- run the simulation -------------- ###\n",
    "    absorption_states = [6, 8]\n",
    "    # vector to record how many steps until first return to an absorption state\n",
    "    first_return_absorption = np.zeros(num_of_samples, dtype = int)\n",
    "    for step in range(num_of_steps):\n",
    "        current_step       = step % num_of_records\n",
    "        next_step          = (step + 1) % num_of_records\n",
    "        tpdf[next_step, :] = tpdf[current_step, :].dot(transition_matrix)\n",
    "        if next_state not in absorption_states:                        \n",
    "                        first_return_absorption[sample] += 1\n",
    "    \n",
    "    # right now, the last distribution is not necessarily on the bottom of the epdf matrix;\n",
    "    # so, the following code rearranges the rows of the matrix to make sure the final distribution is on bottom\n",
    "    tpdf = np.roll(tpdf, num_of_records - next_step - 1, axis = 0)\n",
    "    \n",
    "    return tpdf"
   ]
  },
  {
   "cell_type": "code",
   "execution_count": 35,
   "metadata": {
    "collapsed": true
   },
   "outputs": [],
   "source": [
    "def print_conclusions(num_of_steps, num_of_records, num_of_samples, pdf, method):\n",
    "    if method == 'sample_evolution':\n",
    "        printltx(r\"I did \" + str(num_of_steps) + \" steps with \" + str(num_of_samples) + \\\n",
    "                 \" samples. The last \" + str(num_of_records) + \\\n",
    "                 \" distributions are written as below:\")\n",
    "        display(pdf)\n",
    "        printltx(r\"The average of these distributions, $\\vec{\\pi}$, is \" + ltxmtx(np.mean(pdf, 0)))\n",
    "        printltx(r\"The probability that Nez gets eaten is \" + str(np.mean(pdf, 0)[6]))\n",
    "        printltx(r\"The probability that Nez gets home safely is \" + str(np.mean(pdf, 0)[8]))\n",
    "    if method == 'matrix_multiplication_evolution':\n",
    "        printltx(r\"I did \" + str(num_of_steps) + \" steps. The last \" + \\\n",
    "                 str(num_of_records) + \" distributions are written as below:\")\n",
    "        display(pdf)\n",
    "        printltx(r\"The average of these distributions, $\\vec{\\pi}$, is \" + ltxmtx(np.mean(pdf, 0)))\n",
    "    if method == 'eigen_future':\n",
    "        return None"
   ]
  },
  {
   "cell_type": "markdown",
   "metadata": {},
   "source": [
    "Define vaious initial distributions that represent where the mouse starts in the house."
   ]
  },
  {
   "cell_type": "code",
   "execution_count": 29,
   "metadata": {
    "collapsed": true
   },
   "outputs": [],
   "source": [
    "phi0 = np.array([1, 0, 0, 0, 0, 0, 0, 0, 0])\n",
    "phi1 = np.array([0, 1, 0, 0, 0, 0, 0, 0, 0])\n",
    "phi5 = np.array([0, 0, 0, 0, 0, 1, 0, 0, 0])\n",
    "initial_distributions = [phi0, phi1, phi5]"
   ]
  },
  {
   "cell_type": "markdown",
   "metadata": {},
   "source": [
    "Define transition matrix that's a 3x3 grid since we have 9 states. This random walk will be a simple one."
   ]
  },
  {
   "cell_type": "code",
   "execution_count": 26,
   "metadata": {
    "collapsed": true
   },
   "outputs": [],
   "source": [
    "P = np.array([[0, .5, 0, .5, 0, 0, 0, 0, 0], [1/3, 0, 1/3, 0, 1/3, 0, 0, 0, 0], [0, .5, 0, 0, 0, .5, 0, 0, 0], \\\n",
    "              [1/3, 0, 0, 0, 1/3, 0, 1/3, 0, 0], [0, 1/4, 0, 1/4, 0, 1/4, 0, 1/4, 0], [0, 0, 1/3, 0, 1/3, 0, 0, 0, 1/3], \\\n",
    "              [0, 0, 0, 0, 0, 0, 1, 0, 0], [0, 0, 0, 0, 1/3, 0, 1/3, 0, 1/3], [0, 0, 0, 0, 0, 0, 0, 0, 1]])"
   ]
  },
  {
   "cell_type": "markdown",
   "metadata": {},
   "source": [
    "Initialize parameters."
   ]
  },
  {
   "cell_type": "code",
   "execution_count": 32,
   "metadata": {
    "collapsed": false
   },
   "outputs": [],
   "source": [
    "num_of_steps   = 1000\n",
    "num_of_records = 10\n",
    "num_of_states  = phi0.shape[0]\n",
    "num_of_samples = 2000"
   ]
  },
  {
   "cell_type": "markdown",
   "metadata": {},
   "source": [
    "## Solution via Sample Evolution"
   ]
  },
  {
   "cell_type": "code",
   "execution_count": 72,
   "metadata": {
    "collapsed": false,
    "scrolled": false
   },
   "outputs": [
    {
     "data": {
      "text/latex": [
       "Transition matrix $=$ $\\left[\\begin{matrix}0.0 & 0.5 & 0.0 & 0.5 & 0.0 & 0.0 & 0.0 & 0.0 & 0.0\\\\0.3333 & 0.0 & 0.3333 & 0.0 & 0.3333 & 0.0 & 0.0 & 0.0 & 0.0\\\\0.0 & 0.5 & 0.0 & 0.0 & 0.0 & 0.5 & 0.0 & 0.0 & 0.0\\\\0.3333 & 0.0 & 0.0 & 0.0 & 0.3333 & 0.0 & 0.3333 & 0.0 & 0.0\\\\0.0 & 0.25 & 0.0 & 0.25 & 0.0 & 0.25 & 0.0 & 0.25 & 0.0\\\\0.0 & 0.0 & 0.3333 & 0.0 & 0.3333 & 0.0 & 0.0 & 0.0 & 0.3333\\\\0.0 & 0.0 & 0.0 & 0.0 & 0.0 & 0.0 & 1.0 & 0.0 & 0.0\\\\0.0 & 0.0 & 0.0 & 0.0 & 0.3333 & 0.0 & 0.3333 & 0.0 & 0.3333\\\\0.0 & 0.0 & 0.0 & 0.0 & 0.0 & 0.0 & 0.0 & 0.0 & 1.0\\end{matrix}\\right]$ "
      ],
      "text/plain": [
       "<IPython.core.display.Latex object>"
      ]
     },
     "metadata": {},
     "output_type": "display_data"
    },
    {
     "name": "stdout",
     "output_type": "stream",
     "text": [
      "---------------------------------------------------------------------------------\n"
     ]
    },
    {
     "data": {
      "text/latex": [
       "Initial distribution $=$ $\\left[\\begin{matrix}1.0 & 0.0 & 0.0 & 0.0 & 0.0 & 0.0 & 0.0 & 0.0 & 0.0\\end{matrix}\\right]$ "
      ],
      "text/plain": [
       "<IPython.core.display.Latex object>"
      ]
     },
     "metadata": {},
     "output_type": "display_data"
    },
    {
     "data": {
      "text/latex": [
       "Average absorption time is 8.015"
      ],
      "text/plain": [
       "<IPython.core.display.Latex object>"
      ]
     },
     "metadata": {},
     "output_type": "display_data"
    },
    {
     "data": {
      "image/png": "[encoded data removed]",
      "text/plain": [
       "<matplotlib.figure.Figure at 0x114924400>"
      ]
     },
     "metadata": {},
     "output_type": "display_data"
    },
    {
     "data": {
      "text/latex": [
       "I did 1000 steps with 2000 samples. The last 10 distributions are written as below:"
      ],
      "text/plain": [
       "<IPython.core.display.Latex object>"
      ]
     },
     "metadata": {},
     "output_type": "display_data"
    },
    {
     "data": {
      "text/latex": [
       " $\\left[\\begin{matrix}0.0 & 0.0 & 0.0 & 0.0 & 0.0 & 0.0 & 0.6185 & 0.0 & 0.3815\\\\0.0 & 0.0 & 0.0 & 0.0 & 0.0 & 0.0 & 0.6185 & 0.0 & 0.3815\\\\0.0 & 0.0 & 0.0 & 0.0 & 0.0 & 0.0 & 0.6185 & 0.0 & 0.3815\\\\0.0 & 0.0 & 0.0 & 0.0 & 0.0 & 0.0 & 0.6185 & 0.0 & 0.3815\\\\0.0 & 0.0 & 0.0 & 0.0 & 0.0 & 0.0 & 0.6185 & 0.0 & 0.3815\\\\0.0 & 0.0 & 0.0 & 0.0 & 0.0 & 0.0 & 0.6185 & 0.0 & 0.3815\\\\0.0 & 0.0 & 0.0 & 0.0 & 0.0 & 0.0 & 0.6185 & 0.0 & 0.3815\\\\0.0 & 0.0 & 0.0 & 0.0 & 0.0 & 0.0 & 0.6185 & 0.0 & 0.3815\\\\0.0 & 0.0 & 0.0 & 0.0 & 0.0 & 0.0 & 0.6185 & 0.0 & 0.3815\\\\0.0 & 0.0 & 0.0 & 0.0 & 0.0 & 0.0 & 0.6185 & 0.0 & 0.3815\\end{matrix}\\right]$ "
      ],
      "text/plain": [
       "array([[ 0.    ,  0.    ,  0.    ,  0.    ,  0.    ,  0.    ,  0.6185,\n",
       "         0.    ,  0.3815],\n",
       "       [ 0.    ,  0.    ,  0.    ,  0.    ,  0.    ,  0.    ,  0.6185,\n",
       "         0.    ,  0.3815],\n",
       "       [ 0.    ,  0.    ,  0.    ,  0.    ,  0.    ,  0.    ,  0.6185,\n",
       "         0.    ,  0.3815],\n",
       "       [ 0.    ,  0.    ,  0.    ,  0.    ,  0.    ,  0.    ,  0.6185,\n",
       "         0.    ,  0.3815],\n",
       "       [ 0.    ,  0.    ,  0.    ,  0.    ,  0.    ,  0.    ,  0.6185,\n",
       "         0.    ,  0.3815],\n",
       "       [ 0.    ,  0.    ,  0.    ,  0.    ,  0.    ,  0.    ,  0.6185,\n",
       "         0.    ,  0.3815],\n",
       "       [ 0.    ,  0.    ,  0.    ,  0.    ,  0.    ,  0.    ,  0.6185,\n",
       "         0.    ,  0.3815],\n",
       "       [ 0.    ,  0.    ,  0.    ,  0.    ,  0.    ,  0.    ,  0.6185,\n",
       "         0.    ,  0.3815],\n",
       "       [ 0.    ,  0.    ,  0.    ,  0.    ,  0.    ,  0.    ,  0.6185,\n",
       "         0.    ,  0.3815],\n",
       "       [ 0.    ,  0.    ,  0.    ,  0.    ,  0.    ,  0.    ,  0.6185,\n",
       "         0.    ,  0.3815]])"
      ]
     },
     "metadata": {},
     "output_type": "display_data"
    },
    {
     "data": {
      "text/latex": [
       "The average of these distributions, $\\vec{\\pi}$, is  $\\left[\\begin{matrix}0.0 & 0.0 & 0.0 & 0.0 & 0.0 & 0.0 & 0.6185 & 0.0 & 0.3815\\end{matrix}\\right]$ "
      ],
      "text/plain": [
       "<IPython.core.display.Latex object>"
      ]
     },
     "metadata": {},
     "output_type": "display_data"
    },
    {
     "data": {
      "text/latex": [
       "The probability that Nez gets eaten is 0.6185"
      ],
      "text/plain": [
       "<IPython.core.display.Latex object>"
      ]
     },
     "metadata": {},
     "output_type": "display_data"
    },
    {
     "data": {
      "text/latex": [
       "The probability that Nez gets home safely is 0.3815"
      ],
      "text/plain": [
       "<IPython.core.display.Latex object>"
      ]
     },
     "metadata": {},
     "output_type": "display_data"
    }
   ],
   "source": [
    "printltx(r\"Transition matrix $=$\" + ltxmtx(P))\n",
    "if architecture_check_passed:\n",
    "    for initial_distribution in initial_distributions:\n",
    "        print(r\"---------------------------------------------------------------------------------\")\n",
    "        printltx(r\"Initial distribution $=$\" + ltxmtx(initial_distribution))\n",
    "        initial_parameters = [num_of_steps, num_of_records, num_of_states, num_of_samples,\n",
    "                     P, initial_distribution]\n",
    "        sample_evolution_epdf = sample_evolution(initial_parameters)\n",
    "        print_conclusions(num_of_steps, num_of_records, num_of_samples, sample_evolution_epdf, 'sample_evolution')\n",
    "        break"
   ]
  },
  {
   "cell_type": "markdown",
   "metadata": {},
   "source": [
    "## Solution via Matrix Multiplication"
   ]
  },
  {
   "cell_type": "code",
   "execution_count": null,
   "metadata": {
    "collapsed": true
   },
   "outputs": [],
   "source": [
    "printltx(r\"Transition matrix $=$\" + ltxmtx(P))\n",
    "if architecture_check_passed:\n",
    "    for initial_distribution in initial_distributions:\n",
    "        print(r\"---------------------------------------------------------------------------------\")\n",
    "        printltx(r\"Initial distribution $=$\" + ltxmtx(initial_distribution))\n",
    "        initial_parameters = [num_of_steps, num_of_records, num_of_states, num_of_samples,\n",
    "                     P, initial_distribution]\n",
    "        matrix_multiplication_evolution_tpdf = matrix_multiplication_evolution(initial_parameters)\n",
    "        print_conclusions(num_of_steps, num_of_records, num_of_samples, matrix_multiplication_evolution_tpdf, 'matrix_multiplication_evolution')\n",
    "        break"
   ]
  },
  {
   "cell_type": "markdown",
   "metadata": {},
   "source": [
    "## Conclusions"
   ]
  },
  {
   "cell_type": "markdown",
   "metadata": {},
   "source": [
    "If Nez starts at room 0, he is slightly more likely, on average, to get eaten.  \n",
    "If Nez starts at room 1, he is slightly less likely, on average, to get eaten.  \n",
    "However, is Nez starts at room 5, he is far more likely to make it to his hole and not get eaten."
   ]
  },
  {
   "cell_type": "code",
   "execution_count": null,
   "metadata": {
    "collapsed": true
   },
   "outputs": [],
   "source": []
  }
 ],
 "metadata": {
  "kernelspec": {
   "display_name": "Python 3",
   "language": "python",
   "name": "python3"
  },
  "language_info": {
   "codemirror_mode": {
    "name": "ipython",
    "version": 3
   },
   "file_extension": ".py",
   "mimetype": "text/x-python",
   "name": "python",
   "nbconvert_exporter": "python",
   "pygments_lexer": "ipython3",
   "version": "3.5.1"
  }
 },
 "nbformat": 4,
 "nbformat_minor": 0
}
