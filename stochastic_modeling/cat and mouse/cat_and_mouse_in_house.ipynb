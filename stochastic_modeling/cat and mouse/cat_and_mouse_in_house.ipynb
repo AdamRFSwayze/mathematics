{
 "cells": [
  {
   "cell_type": "markdown",
   "metadata": {},
   "source": [
    "# Cat and Mouse in a House"
   ]
  },
  {
   "cell_type": "code",
   "execution_count": 1,
   "metadata": {
    "collapsed": false
   },
   "outputs": [],
   "source": [
    "from header import *\n",
    "%matplotlib inline\n",
    "import matplotlib.pyplot as plt"
   ]
  },
  {
   "cell_type": "markdown",
   "metadata": {},
   "source": [
    "Nez the mouse is lost in the house below.\n",
    "\n",
    "<img src=\"house.png\", width=169, height=239 alt=\"house\">\n",
    "\n",
    "He searches for his hole via simple random walk - he randomly jumps to any of the rooms adjacent to his current room with equal probability. Nez’s hole is in room 8; he will stay here (in safety) if he ever makes it. However, Brodie the cat lives in room 6 - she will eat Nez if he enters her room. Clearly, Nez will eventually be “absorbed”, either into his hole or into Brodie’s belly.\n",
    "Consider the following scenarios:\n",
    "1. Nez starts in room 0\n",
    "2. Nez starts in room 1\n",
    "3. Nez starts in room 5\n",
    "\n",
    "For each scenario, answer the folliowing 2 questions.\n",
    "1. What is the probability that Nez gets eaten? What is the probabilty that Nez gets home safely? (aka - where is he absorbed)\n",
    "2. How many moves does he make before he gets “absorbed”? (aka - when is he absorbed) Please give the average absorption time AND plot a histogram of the distribution of absorption times (showing what proportion of samples get absorbed after 1 jump, 2 jumps, 3 jumps, etc). Do a search for creating histograms in python - you will likely want to use the matplotlib package."
   ]
  },
  {
   "cell_type": "code",
   "execution_count": 2,
   "metadata": {
    "collapsed": true
   },
   "outputs": [],
   "source": [
    "def architecture_check_passed(transition_matrix, initial_distribution_matrix):\n",
    "    num_of_states = transition_matrix.shape[0]\n",
    "    if initial_distribution_matrix.shape[0] != num_of_states:\n",
    "        #print(\"Transition matrix and initial distribution dimensions don't match\")\n",
    "        return False\n",
    "\n",
    "    row_sums  = np.sum(transition_matrix, 1)\n",
    "    should_be = np.ones_like(row_sums)\n",
    "    if np.allclose(row_sums, should_be) == False:\n",
    "        #print('Rows of transition matrix do not all sum to 1')\n",
    "        return False\n",
    "    return True"
   ]
  },
  {
   "cell_type": "code",
   "execution_count": 3,
   "metadata": {
    "collapsed": true
   },
   "outputs": [],
   "source": [
    "def compute_absorbed_proportions(vector, states_in_recurrent_classes = []):\n",
    "    if states_in_recurrent_classes == []:\n",
    "        ap = [1.0]\n",
    "    else:\n",
    "        ap = [np.sum(vector[states]) for states in states_in_recurrent_classes]\n",
    "    return np.array(ap)"
   ]
  },
  {
   "cell_type": "code",
   "execution_count": 16,
   "metadata": {
    "collapsed": true
   },
   "outputs": [],
   "source": [
    "def plot_absorption(absorption_proportions, tolerance = 0.001):\n",
    "    absorption_proportions = np.array(absorption_proportions)\n",
    "    # total absorbed by all recurrence classes\n",
    "    absorbed_cumulative = np.sum(absorption_proportions, axis = 1)\n",
    "    # remove tail, if simulation continued to run after complete absorption\n",
    "    absorbed_cumulative = absorbed_cumulative[absorbed_cumulative < 1-tolerance]\n",
    "    # append 1.0 to end\n",
    "    absorbed_cumulative = np.append(absorbed_cumulative, 1.0)\n",
    "    # find \"newly\" absorbed proportion at each step\n",
    "    absorbed_marginal = np.diff(absorbed_cumulative)\n",
    "    # np.diff shrinks array by 1 entry so prepend 0.0\n",
    "    absorbed_marginal = np.insert(absorbed_marginal, 0, absorbed_cumulative[0])\n",
    "    times = np.arange(absorbed_marginal.shape[0])\n",
    "    printltx(r\"Absorbed proportions (by recurrence class) \" + ltxmtx(absorption_proportions[-1]))\n",
    "    plt.bar(times, absorbed_marginal)\n",
    "    plt.xlabel('jumps')\n",
    "    plt.ylabel('proportion')\n",
    "    plt.title('Distribution of Absorption Times')\n",
    "    plt.show()\n",
    "    average = absorbed_marginal.dot(times)\n",
    "    printltx(r\"Mean absorption time is \"+str(average))\n",
    "    return None"
   ]
  },
  {
   "cell_type": "code",
   "execution_count": 5,
   "metadata": {
    "collapsed": true
   },
   "outputs": [],
   "source": [
    "def sample_evolution(initial_parameters):\n",
    "    \"\"\"\n",
    "    Evolves the system by simulating many sample paths\n",
    "    \"\"\"\n",
    "    # unpack list\n",
    "    num_of_steps                = initial_parameters[0]\n",
    "    num_of_records              = initial_parameters[1]\n",
    "    num_of_states               = initial_parameters[2]\n",
    "    num_of_samples              = initial_parameters[3]\n",
    "    transition_matrix           = initial_parameters[4]\n",
    "    initial_distribution_matrix = initial_parameters[5]\n",
    "    states_in_recurrent_classes = initial_parameters[6]\n",
    "    tolerance                   = initial_parameters[7]\n",
    "    \n",
    "    ### -------------- set stage for simulation -------------- ###\n",
    "    # create empirical probability distribution function\n",
    "    epdf    = np.zeros([num_of_records, num_of_states], dtype = float)\n",
    "    # initial the epdf by writing the initial distribution matrix to epdf\n",
    "    epdf[0] = initial_distribution_matrix[:]\n",
    "    ap = compute_absorbed_proportions(initial_distribution_matrix, states_in_recurrent_classes)\n",
    "    absorption_proportions = [ap]\n",
    "    # There is a nuance here.  For epdf, we only keep the most num_of_records distributions.\n",
    "    # We really don't need to full prior history, so this help us conserve memory.\n",
    "    # However we really DO need the full history of absorption_proportions, because\n",
    "    # we want to plot the full distribution, over ALL time.\n",
    "    # The problem is that we don't actually know how many steps it will take for complete\n",
    "    # (or almost complete) absorption. So, we cannot pre-allocate the size of \n",
    "    # absorption_propotions (in contrast to epdf, where we can pre-allocate).\n",
    "    # Therefore, we are stuck \"growing the array\" (as far as I can tell).\n",
    "    \n",
    "    scaled_initial_distribution_matrix = np.rint(initial_distribution_matrix*num_of_samples).astype(int)\n",
    "    simulation_ledger                  = np.zeros([num_of_records, num_of_samples], dtype = int)\n",
    "\n",
    "    # initialize simulation ledger by distributing probabilities\n",
    "    # from the initial distribution matrix to the sample population\n",
    "    simulation_ledger_index_1 = 0\n",
    "    for state_index in range(num_of_states):\n",
    "        simulation_ledger_index_2 = simulation_ledger_index_1 + scaled_initial_distribution_matrix[state_index]\n",
    "        simulation_ledger[0, simulation_ledger_index_1:simulation_ledger_index_2] = state_index\n",
    "        simulation_ledger_index_1 = simulation_ledger_index_2\n",
    "    # shuffle the columns in the first row\n",
    "    np.random.shuffle(simulation_ledger[0])\n",
    "    \n",
    "    ### -------------- run the simulation -------------- ###\n",
    "    step = 0\n",
    "    while (step < num_of_steps) or (np.sum(ap) < 1-tolerance):\n",
    "        # \"step\" here refers to the location with respect to the number of records\n",
    "        # since we're looping through the same array\n",
    "        # Because we are not keeping the entire history, we loop repeatedly through the\n",
    "        # same array, overwriting old states. We move down the rows of simulation_ledger until we hit\n",
    "        # the bottom. Then we jump back to the top and overwrite existing arrays.\n",
    "        # The % operator does modular division and accomplishes the necessary looping.\n",
    "        current_step = step % num_of_records\n",
    "        next_step    = (step + 1) % num_of_records\n",
    "        for sample in range(num_of_samples):\n",
    "            current_state      = simulation_ledger[current_step, sample]\n",
    "            # choose random number between 0 and 1\n",
    "            random_probability = np.random.rand()\n",
    "            # randomly decide which state sample goes to next\n",
    "            for next_state in range(num_of_states):\n",
    "                random_probability -= transition_matrix[current_state, next_state]\n",
    "                if random_probability < 0:\n",
    "                    simulation_ledger[next_step, sample] = next_state\n",
    "                    break\n",
    "        vector = np.histogram(simulation_ledger[next_step, :], \\\n",
    "                                          normed = True, bins = range(num_of_states + 1))[0]\n",
    "        epdf[next_step, :] = vector\n",
    "        ap = compute_absorbed_proportions(vector, states_in_recurrent_classes)\n",
    "        absorption_proportions.append(ap)\n",
    "        step += 1\n",
    "    \n",
    "    # right now, the last distribution is not necessarily on the bottom of the epdf matrix;\n",
    "    # so, the following code rearranges the rows of the matrix to make sure the final distribution is on bottom\n",
    "    epdf = np.roll(epdf, num_of_records - next_step - 1, axis = 0)\n",
    "    plot_absorption(absorption_proportions, tolerance = tolerance)\n",
    "    return epdf"
   ]
  },
  {
   "cell_type": "code",
   "execution_count": 13,
   "metadata": {
    "collapsed": false
   },
   "outputs": [],
   "source": [
    "def matrix_multiplication_evolution(initial_parameters):\n",
    "    # unpack list\n",
    "    num_of_steps                = initial_parameters[0]\n",
    "    num_of_records              = initial_parameters[1]\n",
    "    num_of_states               = initial_parameters[2]\n",
    "    transition_matrix           = initial_parameters[3]\n",
    "    initial_distribution_matrix = initial_parameters[4]\n",
    "    \n",
    "    ### -------------- set stage for simulation -------------- ###\n",
    "    # create theoretical probability distribution function\n",
    "    tpdf    = np.zeros([num_of_records, num_of_states], dtype = float)\n",
    "    # initialize the tpdf by writing the initial distribution matrix to tpdf\n",
    "    tpdf[0] = initial_distribution_matrix[:]\n",
    "    ap = compute_absorbed_proportions(initial_distribution_matrix, states_in_recurrent_classes)\n",
    "    absorption_proportions = [ap]\n",
    "    printltx(r\"initialized tpdf = \" + ltxmtx(tpdf))\n",
    "    \n",
    "    ### -------------- run the simulation -------------- ###\n",
    "    step = 0\n",
    "    while (step < num_of_steps) or (np.sum(ap) < 1-tolerance):\n",
    "        current_step       = step % num_of_records\n",
    "        next_step          = (step + 1) % num_of_records\n",
    "        tpdf[next_step, :] = tpdf[current_step, :].dot(transition_matrix)        \n",
    "        \n",
    "        ap = compute_absorbed_proportions(tpdf[next_step,:], states_in_recurrent_classes)\n",
    "        absorption_proportions.append(ap)\n",
    "        step += 1\n",
    "        \n",
    "    # right now, the last distribution is not necessarily on the bottom of the epdf matrix;\n",
    "    # so, the following code rearranges the rows of the matrix to make sure the final distribution is on bottom\n",
    "    tpdf = np.roll(tpdf, num_of_records - next_step - 1, axis = 0)\n",
    "    plot_absorption(absorption_proportions, tolerance = tolerance)\n",
    "    return tpdf"
   ]
  },
  {
   "cell_type": "code",
   "execution_count": 17,
   "metadata": {
    "collapsed": true
   },
   "outputs": [],
   "source": [
    "def print_conclusions(num_of_steps, num_of_records, num_of_samples, pdf, method):\n",
    "    if method == 'sample_evolution':\n",
    "        printltx(r\"I did \" + str(num_of_steps) + \" steps with \" + str(num_of_samples) + \\\n",
    "                 \" samples. The last \" + str(num_of_records) + \\\n",
    "                 \" distributions are written as below:\")\n",
    "        display(pdf)\n",
    "        printltx(r\"The average of these distributions, $\\vec{\\pi}$, is \" + ltxmtx(np.mean(pdf, 0)))\n",
    "        printltx(r\"The probability that Nez gets eaten is \" + str(np.mean(pdf, 0)[6]))\n",
    "        printltx(r\"The probability that Nez gets home safely is \" + str(np.mean(pdf, 0)[8]))\n",
    "    if method == 'matrix_multiplication_evolution':\n",
    "        printltx(r\"I did \" + str(num_of_steps) + \" steps. The last \" + \\\n",
    "                 str(num_of_records) + \" distributions are written as below:\")\n",
    "        display(pdf)\n",
    "        printltx(r\"The average of these distributions, $\\vec{\\pi}$, is \" + ltxmtx(np.mean(pdf, 0)))\n",
    "        printltx(r\"The probability that Nez gets eaten is \" + str(np.mean(pdf, 0)[6]))\n",
    "        printltx(r\"The probability that Nez gets home safely is \" + str(np.mean(pdf, 0)[8]))\n",
    "    if method == 'eigen_future':\n",
    "        return None"
   ]
  },
  {
   "cell_type": "markdown",
   "metadata": {},
   "source": [
    "Define various initial distributions that represent where the mouse starts in the house."
   ]
  },
  {
   "cell_type": "code",
   "execution_count": 8,
   "metadata": {
    "collapsed": true
   },
   "outputs": [],
   "source": [
    "phi0 = np.array([1, 0, 0, 0, 0, 0, 0, 0, 0])\n",
    "phi1 = np.array([0, 1, 0, 0, 0, 0, 0, 0, 0])\n",
    "phi5 = np.array([0, 0, 0, 0, 0, 1, 0, 0, 0])\n",
    "initial_distributions = [phi0, phi1, phi5]"
   ]
  },
  {
   "cell_type": "markdown",
   "metadata": {},
   "source": [
    "Define transition matrix that's a 3x3 grid since we have 9 states. This random walk will be a simple one."
   ]
  },
  {
   "cell_type": "code",
   "execution_count": 9,
   "metadata": {
    "collapsed": true
   },
   "outputs": [],
   "source": [
    "P = np.array([[0, .5, 0, .5, 0, 0, 0, 0, 0], [1/3, 0, 1/3, 0, 1/3, 0, 0, 0, 0], [0, .5, 0, 0, 0, .5, 0, 0, 0], \\\n",
    "              [1/3, 0, 0, 0, 1/3, 0, 1/3, 0, 0], [0, 1/4, 0, 1/4, 0, 1/4, 0, 1/4, 0], [0, 0, 1/3, 0, 1/3, 0, 0, 0, 1/3], \\\n",
    "              [0, 0, 0, 0, 0, 0, 1, 0, 0], [0, 0, 0, 0, 1/3, 0, 1/3, 0, 1/3], [0, 0, 0, 0, 0, 0, 0, 0, 1]])"
   ]
  },
  {
   "cell_type": "markdown",
   "metadata": {},
   "source": [
    "Initialize parameters."
   ]
  },
  {
   "cell_type": "code",
   "execution_count": 10,
   "metadata": {
    "collapsed": false
   },
   "outputs": [],
   "source": [
    "num_of_steps                = 1000\n",
    "num_of_records              = 10\n",
    "num_of_states               = phi0.shape[0]\n",
    "num_of_samples              = 2000\n",
    "states_in_recurrent_classes = [[6], [8]]\n",
    "tolerance                   = 0.001"
   ]
  },
  {
   "cell_type": "markdown",
   "metadata": {},
   "source": [
    "## Solution via Sample Evolution"
   ]
  },
  {
   "cell_type": "code",
   "execution_count": 19,
   "metadata": {
    "collapsed": false,
    "scrolled": false
   },
   "outputs": [
    {
     "data": {
      "text/latex": [
       "Transition matrix $=$ $\\left[\\begin{matrix}0.0 & 0.5 & 0.0 & 0.5 & 0.0 & 0.0 & 0.0 & 0.0 & 0.0\\\\0.3333 & 0.0 & 0.3333 & 0.0 & 0.3333 & 0.0 & 0.0 & 0.0 & 0.0\\\\0.0 & 0.5 & 0.0 & 0.0 & 0.0 & 0.5 & 0.0 & 0.0 & 0.0\\\\0.3333 & 0.0 & 0.0 & 0.0 & 0.3333 & 0.0 & 0.3333 & 0.0 & 0.0\\\\0.0 & 0.25 & 0.0 & 0.25 & 0.0 & 0.25 & 0.0 & 0.25 & 0.0\\\\0.0 & 0.0 & 0.3333 & 0.0 & 0.3333 & 0.0 & 0.0 & 0.0 & 0.3333\\\\0.0 & 0.0 & 0.0 & 0.0 & 0.0 & 0.0 & 1.0 & 0.0 & 0.0\\\\0.0 & 0.0 & 0.0 & 0.0 & 0.3333 & 0.0 & 0.3333 & 0.0 & 0.3333\\\\0.0 & 0.0 & 0.0 & 0.0 & 0.0 & 0.0 & 0.0 & 0.0 & 1.0\\end{matrix}\\right]$ "
      ],
      "text/plain": [
       "<IPython.core.display.Latex object>"
      ]
     },
     "metadata": {},
     "output_type": "display_data"
    },
    {
     "name": "stdout",
     "output_type": "stream",
     "text": [
      "---------------------------------------------------------------------------------\n"
     ]
    },
    {
     "data": {
      "text/latex": [
       "Initial distribution $=$ $\\left[\\begin{matrix}1.0 & 0.0 & 0.0 & 0.0 & 0.0 & 0.0 & 0.0 & 0.0 & 0.0\\end{matrix}\\right]$ "
      ],
      "text/plain": [
       "<IPython.core.display.Latex object>"
      ]
     },
     "metadata": {},
     "output_type": "display_data"
    },
    {
     "data": {
      "text/latex": [
       "Absorbed proportions (by recurrence class)  $\\left[\\begin{matrix}0.6055 & 0.3945\\end{matrix}\\right]$ "
      ],
      "text/plain": [
       "<IPython.core.display.Latex object>"
      ]
     },
     "metadata": {},
     "output_type": "display_data"
    },
    {
     "data": {
      "image/png": "[encoded data removed]",
      "text/plain": [
       "<matplotlib.figure.Figure at 0x10eb2a358>"
      ]
     },
     "metadata": {},
     "output_type": "display_data"
    },
    {
     "data": {
      "text/latex": [
       "Mean absorption time is 9.146"
      ],
      "text/plain": [
       "<IPython.core.display.Latex object>"
      ]
     },
     "metadata": {},
     "output_type": "display_data"
    },
    {
     "data": {
      "text/latex": [
       "I did 1000 steps with 2000 samples. The last 10 distributions are written as below:"
      ],
      "text/plain": [
       "<IPython.core.display.Latex object>"
      ]
     },
     "metadata": {},
     "output_type": "display_data"
    },
    {
     "data": {
      "text/latex": [
       " $\\left[\\begin{matrix}0.0 & 0.0 & 0.0 & 0.0 & 0.0 & 0.0 & 0.6055 & 0.0 & 0.3945\\\\0.0 & 0.0 & 0.0 & 0.0 & 0.0 & 0.0 & 0.6055 & 0.0 & 0.3945\\\\0.0 & 0.0 & 0.0 & 0.0 & 0.0 & 0.0 & 0.6055 & 0.0 & 0.3945\\\\0.0 & 0.0 & 0.0 & 0.0 & 0.0 & 0.0 & 0.6055 & 0.0 & 0.3945\\\\0.0 & 0.0 & 0.0 & 0.0 & 0.0 & 0.0 & 0.6055 & 0.0 & 0.3945\\\\0.0 & 0.0 & 0.0 & 0.0 & 0.0 & 0.0 & 0.6055 & 0.0 & 0.3945\\\\0.0 & 0.0 & 0.0 & 0.0 & 0.0 & 0.0 & 0.6055 & 0.0 & 0.3945\\\\0.0 & 0.0 & 0.0 & 0.0 & 0.0 & 0.0 & 0.6055 & 0.0 & 0.3945\\\\0.0 & 0.0 & 0.0 & 0.0 & 0.0 & 0.0 & 0.6055 & 0.0 & 0.3945\\\\0.0 & 0.0 & 0.0 & 0.0 & 0.0 & 0.0 & 0.6055 & 0.0 & 0.3945\\end{matrix}\\right]$ "
      ],
      "text/plain": [
       "array([[ 0.    ,  0.    ,  0.    ,  0.    ,  0.    ,  0.    ,  0.6055,\n",
       "         0.    ,  0.3945],\n",
       "       [ 0.    ,  0.    ,  0.    ,  0.    ,  0.    ,  0.    ,  0.6055,\n",
       "         0.    ,  0.3945],\n",
       "       [ 0.    ,  0.    ,  0.    ,  0.    ,  0.    ,  0.    ,  0.6055,\n",
       "         0.    ,  0.3945],\n",
       "       [ 0.    ,  0.    ,  0.    ,  0.    ,  0.    ,  0.    ,  0.6055,\n",
       "         0.    ,  0.3945],\n",
       "       [ 0.    ,  0.    ,  0.    ,  0.    ,  0.    ,  0.    ,  0.6055,\n",
       "         0.    ,  0.3945],\n",
       "       [ 0.    ,  0.    ,  0.    ,  0.    ,  0.    ,  0.    ,  0.6055,\n",
       "         0.    ,  0.3945],\n",
       "       [ 0.    ,  0.    ,  0.    ,  0.    ,  0.    ,  0.    ,  0.6055,\n",
       "         0.    ,  0.3945],\n",
       "       [ 0.    ,  0.    ,  0.    ,  0.    ,  0.    ,  0.    ,  0.6055,\n",
       "         0.    ,  0.3945],\n",
       "       [ 0.    ,  0.    ,  0.    ,  0.    ,  0.    ,  0.    ,  0.6055,\n",
       "         0.    ,  0.3945],\n",
       "       [ 0.    ,  0.    ,  0.    ,  0.    ,  0.    ,  0.    ,  0.6055,\n",
       "         0.    ,  0.3945]])"
      ]
     },
     "metadata": {},
     "output_type": "display_data"
    },
    {
     "data": {
      "text/latex": [
       "The average of these distributions, $\\vec{\\pi}$, is  $\\left[\\begin{matrix}0.0 & 0.0 & 0.0 & 0.0 & 0.0 & 0.0 & 0.6055 & 0.0 & 0.3945\\end{matrix}\\right]$ "
      ],
      "text/plain": [
       "<IPython.core.display.Latex object>"
      ]
     },
     "metadata": {},
     "output_type": "display_data"
    },
    {
     "data": {
      "text/latex": [
       "The probability that Nez gets eaten is 0.6055"
      ],
      "text/plain": [
       "<IPython.core.display.Latex object>"
      ]
     },
     "metadata": {},
     "output_type": "display_data"
    },
    {
     "data": {
      "text/latex": [
       "The probability that Nez gets home safely is 0.3945"
      ],
      "text/plain": [
       "<IPython.core.display.Latex object>"
      ]
     },
     "metadata": {},
     "output_type": "display_data"
    },
    {
     "name": "stdout",
     "output_type": "stream",
     "text": [
      "---------------------------------------------------------------------------------\n"
     ]
    },
    {
     "data": {
      "text/latex": [
       "Initial distribution $=$ $\\left[\\begin{matrix}0.0 & 1.0 & 0.0 & 0.0 & 0.0 & 0.0 & 0.0 & 0.0 & 0.0\\end{matrix}\\right]$ "
      ],
      "text/plain": [
       "<IPython.core.display.Latex object>"
      ]
     },
     "metadata": {},
     "output_type": "display_data"
    },
    {
     "data": {
      "text/latex": [
       "Absorbed proportions (by recurrence class)  $\\left[\\begin{matrix}0.4895 & 0.5105\\end{matrix}\\right]$ "
      ],
      "text/plain": [
       "<IPython.core.display.Latex object>"
      ]
     },
     "metadata": {},
     "output_type": "display_data"
    },
    {
     "data": {
      "image/png": "[encoded data removed]",
      "text/plain": [
       "<matplotlib.figure.Figure at 0x10ea74128>"
      ]
     },
     "metadata": {},
     "output_type": "display_data"
    },
    {
     "data": {
      "text/latex": [
       "Mean absorption time is 9.277"
      ],
      "text/plain": [
       "<IPython.core.display.Latex object>"
      ]
     },
     "metadata": {},
     "output_type": "display_data"
    },
    {
     "data": {
      "text/latex": [
       "I did 1000 steps with 2000 samples. The last 10 distributions are written as below:"
      ],
      "text/plain": [
       "<IPython.core.display.Latex object>"
      ]
     },
     "metadata": {},
     "output_type": "display_data"
    },
    {
     "data": {
      "text/latex": [
       " $\\left[\\begin{matrix}0.0 & 0.0 & 0.0 & 0.0 & 0.0 & 0.0 & 0.4895 & 0.0 & 0.5105\\\\0.0 & 0.0 & 0.0 & 0.0 & 0.0 & 0.0 & 0.4895 & 0.0 & 0.5105\\\\0.0 & 0.0 & 0.0 & 0.0 & 0.0 & 0.0 & 0.4895 & 0.0 & 0.5105\\\\0.0 & 0.0 & 0.0 & 0.0 & 0.0 & 0.0 & 0.4895 & 0.0 & 0.5105\\\\0.0 & 0.0 & 0.0 & 0.0 & 0.0 & 0.0 & 0.4895 & 0.0 & 0.5105\\\\0.0 & 0.0 & 0.0 & 0.0 & 0.0 & 0.0 & 0.4895 & 0.0 & 0.5105\\\\0.0 & 0.0 & 0.0 & 0.0 & 0.0 & 0.0 & 0.4895 & 0.0 & 0.5105\\\\0.0 & 0.0 & 0.0 & 0.0 & 0.0 & 0.0 & 0.4895 & 0.0 & 0.5105\\\\0.0 & 0.0 & 0.0 & 0.0 & 0.0 & 0.0 & 0.4895 & 0.0 & 0.5105\\\\0.0 & 0.0 & 0.0 & 0.0 & 0.0 & 0.0 & 0.4895 & 0.0 & 0.5105\\end{matrix}\\right]$ "
      ],
      "text/plain": [
       "array([[ 0.    ,  0.    ,  0.    ,  0.    ,  0.    ,  0.    ,  0.4895,\n",
       "         0.    ,  0.5105],\n",
       "       [ 0.    ,  0.    ,  0.    ,  0.    ,  0.    ,  0.    ,  0.4895,\n",
       "         0.    ,  0.5105],\n",
       "       [ 0.    ,  0.    ,  0.    ,  0.    ,  0.    ,  0.    ,  0.4895,\n",
       "         0.    ,  0.5105],\n",
       "       [ 0.    ,  0.    ,  0.    ,  0.    ,  0.    ,  0.    ,  0.4895,\n",
       "         0.    ,  0.5105],\n",
       "       [ 0.    ,  0.    ,  0.    ,  0.    ,  0.    ,  0.    ,  0.4895,\n",
       "         0.    ,  0.5105],\n",
       "       [ 0.    ,  0.    ,  0.    ,  0.    ,  0.    ,  0.    ,  0.4895,\n",
       "         0.    ,  0.5105],\n",
       "       [ 0.    ,  0.    ,  0.    ,  0.    ,  0.    ,  0.    ,  0.4895,\n",
       "         0.    ,  0.5105],\n",
       "       [ 0.    ,  0.    ,  0.    ,  0.    ,  0.    ,  0.    ,  0.4895,\n",
       "         0.    ,  0.5105],\n",
       "       [ 0.    ,  0.    ,  0.    ,  0.    ,  0.    ,  0.    ,  0.4895,\n",
       "         0.    ,  0.5105],\n",
       "       [ 0.    ,  0.    ,  0.    ,  0.    ,  0.    ,  0.    ,  0.4895,\n",
       "         0.    ,  0.5105]])"
      ]
     },
     "metadata": {},
     "output_type": "display_data"
    },
    {
     "data": {
      "text/latex": [
       "The average of these distributions, $\\vec{\\pi}$, is  $\\left[\\begin{matrix}0.0 & 0.0 & 0.0 & 0.0 & 0.0 & 0.0 & 0.4895 & 0.0 & 0.5105\\end{matrix}\\right]$ "
      ],
      "text/plain": [
       "<IPython.core.display.Latex object>"
      ]
     },
     "metadata": {},
     "output_type": "display_data"
    },
    {
     "data": {
      "text/latex": [
       "The probability that Nez gets eaten is 0.4895"
      ],
      "text/plain": [
       "<IPython.core.display.Latex object>"
      ]
     },
     "metadata": {},
     "output_type": "display_data"
    },
    {
     "data": {
      "text/latex": [
       "The probability that Nez gets home safely is 0.5105"
      ],
      "text/plain": [
       "<IPython.core.display.Latex object>"
      ]
     },
     "metadata": {},
     "output_type": "display_data"
    },
    {
     "name": "stdout",
     "output_type": "stream",
     "text": [
      "---------------------------------------------------------------------------------\n"
     ]
    },
    {
     "data": {
      "text/latex": [
       "Initial distribution $=$ $\\left[\\begin{matrix}0.0 & 0.0 & 0.0 & 0.0 & 0.0 & 1.0 & 0.0 & 0.0 & 0.0\\end{matrix}\\right]$ "
      ],
      "text/plain": [
       "<IPython.core.display.Latex object>"
      ]
     },
     "metadata": {},
     "output_type": "display_data"
    },
    {
     "data": {
      "text/latex": [
       "Absorbed proportions (by recurrence class)  $\\left[\\begin{matrix}0.2955 & 0.7045\\end{matrix}\\right]$ "
      ],
      "text/plain": [
       "<IPython.core.display.Latex object>"
      ]
     },
     "metadata": {},
     "output_type": "display_data"
    },
    {
     "data": {
      "image/png": "[encoded data removed]",
      "text/plain": [
       "<matplotlib.figure.Figure at 0x10eb164a8>"
      ]
     },
     "metadata": {},
     "output_type": "display_data"
    },
    {
     "data": {
      "text/latex": [
       "Mean absorption time is 6.575"
      ],
      "text/plain": [
       "<IPython.core.display.Latex object>"
      ]
     },
     "metadata": {},
     "output_type": "display_data"
    },
    {
     "data": {
      "text/latex": [
       "I did 1000 steps with 2000 samples. The last 10 distributions are written as below:"
      ],
      "text/plain": [
       "<IPython.core.display.Latex object>"
      ]
     },
     "metadata": {},
     "output_type": "display_data"
    },
    {
     "data": {
      "text/latex": [
       " $\\left[\\begin{matrix}0.0 & 0.0 & 0.0 & 0.0 & 0.0 & 0.0 & 0.2955 & 0.0 & 0.7045\\\\0.0 & 0.0 & 0.0 & 0.0 & 0.0 & 0.0 & 0.2955 & 0.0 & 0.7045\\\\0.0 & 0.0 & 0.0 & 0.0 & 0.0 & 0.0 & 0.2955 & 0.0 & 0.7045\\\\0.0 & 0.0 & 0.0 & 0.0 & 0.0 & 0.0 & 0.2955 & 0.0 & 0.7045\\\\0.0 & 0.0 & 0.0 & 0.0 & 0.0 & 0.0 & 0.2955 & 0.0 & 0.7045\\\\0.0 & 0.0 & 0.0 & 0.0 & 0.0 & 0.0 & 0.2955 & 0.0 & 0.7045\\\\0.0 & 0.0 & 0.0 & 0.0 & 0.0 & 0.0 & 0.2955 & 0.0 & 0.7045\\\\0.0 & 0.0 & 0.0 & 0.0 & 0.0 & 0.0 & 0.2955 & 0.0 & 0.7045\\\\0.0 & 0.0 & 0.0 & 0.0 & 0.0 & 0.0 & 0.2955 & 0.0 & 0.7045\\\\0.0 & 0.0 & 0.0 & 0.0 & 0.0 & 0.0 & 0.2955 & 0.0 & 0.7045\\end{matrix}\\right]$ "
      ],
      "text/plain": [
       "array([[ 0.    ,  0.    ,  0.    ,  0.    ,  0.    ,  0.    ,  0.2955,\n",
       "         0.    ,  0.7045],\n",
       "       [ 0.    ,  0.    ,  0.    ,  0.    ,  0.    ,  0.    ,  0.2955,\n",
       "         0.    ,  0.7045],\n",
       "       [ 0.    ,  0.    ,  0.    ,  0.    ,  0.    ,  0.    ,  0.2955,\n",
       "         0.    ,  0.7045],\n",
       "       [ 0.    ,  0.    ,  0.    ,  0.    ,  0.    ,  0.    ,  0.2955,\n",
       "         0.    ,  0.7045],\n",
       "       [ 0.    ,  0.    ,  0.    ,  0.    ,  0.    ,  0.    ,  0.2955,\n",
       "         0.    ,  0.7045],\n",
       "       [ 0.    ,  0.    ,  0.    ,  0.    ,  0.    ,  0.    ,  0.2955,\n",
       "         0.    ,  0.7045],\n",
       "       [ 0.    ,  0.    ,  0.    ,  0.    ,  0.    ,  0.    ,  0.2955,\n",
       "         0.    ,  0.7045],\n",
       "       [ 0.    ,  0.    ,  0.    ,  0.    ,  0.    ,  0.    ,  0.2955,\n",
       "         0.    ,  0.7045],\n",
       "       [ 0.    ,  0.    ,  0.    ,  0.    ,  0.    ,  0.    ,  0.2955,\n",
       "         0.    ,  0.7045],\n",
       "       [ 0.    ,  0.    ,  0.    ,  0.    ,  0.    ,  0.    ,  0.2955,\n",
       "         0.    ,  0.7045]])"
      ]
     },
     "metadata": {},
     "output_type": "display_data"
    },
    {
     "data": {
      "text/latex": [
       "The average of these distributions, $\\vec{\\pi}$, is  $\\left[\\begin{matrix}0.0 & 0.0 & 0.0 & 0.0 & 0.0 & 0.0 & 0.2955 & 0.0 & 0.7045\\end{matrix}\\right]$ "
      ],
      "text/plain": [
       "<IPython.core.display.Latex object>"
      ]
     },
     "metadata": {},
     "output_type": "display_data"
    },
    {
     "data": {
      "text/latex": [
       "The probability that Nez gets eaten is 0.2955"
      ],
      "text/plain": [
       "<IPython.core.display.Latex object>"
      ]
     },
     "metadata": {},
     "output_type": "display_data"
    },
    {
     "data": {
      "text/latex": [
       "The probability that Nez gets home safely is 0.7045"
      ],
      "text/plain": [
       "<IPython.core.display.Latex object>"
      ]
     },
     "metadata": {},
     "output_type": "display_data"
    }
   ],
   "source": [
    "printltx(r\"Transition matrix $=$\" + ltxmtx(P))\n",
    "if architecture_check_passed:\n",
    "    for initial_distribution in initial_distributions:\n",
    "        print(r\"---------------------------------------------------------------------------------\")\n",
    "        printltx(r\"Initial distribution $=$\" + ltxmtx(initial_distribution))\n",
    "        initial_parameters = [num_of_steps, num_of_records, num_of_states, num_of_samples,\n",
    "                     P, initial_distribution, states_in_recurrent_classes, tolerance]\n",
    "        sample_evolution_epdf = sample_evolution(initial_parameters)\n",
    "        print_conclusions(num_of_steps, num_of_records, num_of_samples, sample_evolution_epdf, 'sample_evolution')"
   ]
  },
  {
   "cell_type": "markdown",
   "metadata": {},
   "source": [
    "## Solution via Matrix Multiplication"
   ]
  },
  {
   "cell_type": "code",
   "execution_count": 22,
   "metadata": {
    "collapsed": false,
    "scrolled": false
   },
   "outputs": [
    {
     "data": {
      "text/latex": [
       "Transition matrix $=$ $\\left[\\begin{matrix}0.0 & 0.5 & 0.0 & 0.5 & 0.0 & 0.0 & 0.0 & 0.0 & 0.0\\\\0.3333 & 0.0 & 0.3333 & 0.0 & 0.3333 & 0.0 & 0.0 & 0.0 & 0.0\\\\0.0 & 0.5 & 0.0 & 0.0 & 0.0 & 0.5 & 0.0 & 0.0 & 0.0\\\\0.3333 & 0.0 & 0.0 & 0.0 & 0.3333 & 0.0 & 0.3333 & 0.0 & 0.0\\\\0.0 & 0.25 & 0.0 & 0.25 & 0.0 & 0.25 & 0.0 & 0.25 & 0.0\\\\0.0 & 0.0 & 0.3333 & 0.0 & 0.3333 & 0.0 & 0.0 & 0.0 & 0.3333\\\\0.0 & 0.0 & 0.0 & 0.0 & 0.0 & 0.0 & 1.0 & 0.0 & 0.0\\\\0.0 & 0.0 & 0.0 & 0.0 & 0.3333 & 0.0 & 0.3333 & 0.0 & 0.3333\\\\0.0 & 0.0 & 0.0 & 0.0 & 0.0 & 0.0 & 0.0 & 0.0 & 1.0\\end{matrix}\\right]$ "
      ],
      "text/plain": [
       "<IPython.core.display.Latex object>"
      ]
     },
     "metadata": {},
     "output_type": "display_data"
    },
    {
     "name": "stdout",
     "output_type": "stream",
     "text": [
      "---------------------------------------------------------------------------------\n"
     ]
    },
    {
     "data": {
      "text/latex": [
       "Initial distribution $=$ $\\left[\\begin{matrix}1.0 & 0.0 & 0.0 & 0.0 & 0.0 & 0.0 & 0.0 & 0.0 & 0.0\\end{matrix}\\right]$ "
      ],
      "text/plain": [
       "<IPython.core.display.Latex object>"
      ]
     },
     "metadata": {},
     "output_type": "display_data"
    },
    {
     "data": {
      "text/latex": [
       "initialized tpdf =  $\\left[\\begin{matrix}1.0 & 0.0 & 0.0 & 0.0 & 0.0 & 0.0 & 0.0 & 0.0 & 0.0\\\\0.0 & 0.0 & 0.0 & 0.0 & 0.0 & 0.0 & 0.0 & 0.0 & 0.0\\\\0.0 & 0.0 & 0.0 & 0.0 & 0.0 & 0.0 & 0.0 & 0.0 & 0.0\\\\0.0 & 0.0 & 0.0 & 0.0 & 0.0 & 0.0 & 0.0 & 0.0 & 0.0\\\\0.0 & 0.0 & 0.0 & 0.0 & 0.0 & 0.0 & 0.0 & 0.0 & 0.0\\\\0.0 & 0.0 & 0.0 & 0.0 & 0.0 & 0.0 & 0.0 & 0.0 & 0.0\\\\0.0 & 0.0 & 0.0 & 0.0 & 0.0 & 0.0 & 0.0 & 0.0 & 0.0\\\\0.0 & 0.0 & 0.0 & 0.0 & 0.0 & 0.0 & 0.0 & 0.0 & 0.0\\\\0.0 & 0.0 & 0.0 & 0.0 & 0.0 & 0.0 & 0.0 & 0.0 & 0.0\\\\0.0 & 0.0 & 0.0 & 0.0 & 0.0 & 0.0 & 0.0 & 0.0 & 0.0\\end{matrix}\\right]$ "
      ],
      "text/plain": [
       "<IPython.core.display.Latex object>"
      ]
     },
     "metadata": {},
     "output_type": "display_data"
    },
    {
     "data": {
      "text/latex": [
       "Absorbed proportions (by recurrence class)  $\\left[\\begin{matrix}0.6 & 0.4\\end{matrix}\\right]$ "
      ],
      "text/plain": [
       "<IPython.core.display.Latex object>"
      ]
     },
     "metadata": {},
     "output_type": "display_data"
    },
    {
     "data": {
      "image/png": "[encoded data removed]",
      "text/plain": [
       "<matplotlib.figure.Figure at 0x10e96a710>"
      ]
     },
     "metadata": {},
     "output_type": "display_data"
    },
    {
     "data": {
      "text/latex": [
       "Mean absorption time is 8.99258393626"
      ],
      "text/plain": [
       "<IPython.core.display.Latex object>"
      ]
     },
     "metadata": {},
     "output_type": "display_data"
    },
    {
     "data": {
      "text/latex": [
       "I did 1000 steps. The last 10 distributions are written as below:"
      ],
      "text/plain": [
       "<IPython.core.display.Latex object>"
      ]
     },
     "metadata": {},
     "output_type": "display_data"
    },
    {
     "data": {
      "text/latex": [
       " $\\left[\\begin{matrix}0.0 & 0.0 & 0.0 & 0.0 & 0.0 & 0.0 & 0.6 & 0.0 & 0.4\\\\0.0 & 0.0 & 0.0 & 0.0 & 0.0 & 0.0 & 0.6 & 0.0 & 0.4\\\\0.0 & 0.0 & 0.0 & 0.0 & 0.0 & 0.0 & 0.6 & 0.0 & 0.4\\\\0.0 & 0.0 & 0.0 & 0.0 & 0.0 & 0.0 & 0.6 & 0.0 & 0.4\\\\0.0 & 0.0 & 0.0 & 0.0 & 0.0 & 0.0 & 0.6 & 0.0 & 0.4\\\\0.0 & 0.0 & 0.0 & 0.0 & 0.0 & 0.0 & 0.6 & 0.0 & 0.4\\\\0.0 & 0.0 & 0.0 & 0.0 & 0.0 & 0.0 & 0.6 & 0.0 & 0.4\\\\0.0 & 0.0 & 0.0 & 0.0 & 0.0 & 0.0 & 0.6 & 0.0 & 0.4\\\\0.0 & 0.0 & 0.0 & 0.0 & 0.0 & 0.0 & 0.6 & 0.0 & 0.4\\\\0.0 & 0.0 & 0.0 & 0.0 & 0.0 & 0.0 & 0.6 & 0.0 & 0.4\\end{matrix}\\right]$ "
      ],
      "text/plain": [
       "array([[  0.00000000e+00,   5.14406159e-60,   0.00000000e+00,\n",
       "          3.29419636e-60,   0.00000000e+00,   3.29419636e-60,\n",
       "          6.00000000e-01,   1.44433113e-60,   4.00000000e-01],\n",
       "       [  2.81275265e-60,   0.00000000e+00,   2.81275265e-60,\n",
       "          0.00000000e+00,   4.39226182e-60,   0.00000000e+00,\n",
       "          6.00000000e-01,   0.00000000e+00,   4.00000000e-01],\n",
       "       [  0.00000000e+00,   3.91081811e-60,   0.00000000e+00,\n",
       "          2.50444178e-60,   0.00000000e+00,   2.50444178e-60,\n",
       "          6.00000000e-01,   1.09806545e-60,   4.00000000e-01],\n",
       "       [  2.13841996e-60,   0.00000000e+00,   2.13841996e-60,\n",
       "          0.00000000e+00,   3.33925571e-60,   0.00000000e+00,\n",
       "          6.00000000e-01,   0.00000000e+00,   4.00000000e-01],\n",
       "       [  0.00000000e+00,   2.97323389e-60,   0.00000000e+00,\n",
       "          1.90402391e-60,   0.00000000e+00,   1.90402391e-60,\n",
       "          6.00000000e-01,   8.34813927e-61,   4.00000000e-01],\n",
       "       [  1.62575260e-60,   0.00000000e+00,   1.62575260e-60,\n",
       "          0.00000000e+00,   2.53869854e-60,   0.00000000e+00,\n",
       "          6.00000000e-01,   0.00000000e+00,   4.00000000e-01],\n",
       "       [  0.00000000e+00,   2.26042723e-60,   0.00000000e+00,\n",
       "          1.44755094e-60,   0.00000000e+00,   1.44755094e-60,\n",
       "          6.00000000e-01,   6.34674636e-61,   4.00000000e-01],\n",
       "       [  1.23599272e-60,   0.00000000e+00,   1.23599272e-60,\n",
       "          0.00000000e+00,   1.93006791e-60,   0.00000000e+00,\n",
       "          6.00000000e-01,   0.00000000e+00,   4.00000000e-01],\n",
       "       [  0.00000000e+00,   1.71850970e-60,   0.00000000e+00,\n",
       "          1.10051334e-60,   0.00000000e+00,   1.10051334e-60,\n",
       "          6.00000000e-01,   4.82516978e-61,   4.00000000e-01],\n",
       "       [  9.39674347e-61,   0.00000000e+00,   9.39674347e-61,\n",
       "          0.00000000e+00,   1.46735112e-60,   0.00000000e+00,\n",
       "          6.00000000e-01,   0.00000000e+00,   4.00000000e-01]])"
      ]
     },
     "metadata": {},
     "output_type": "display_data"
    },
    {
     "data": {
      "text/latex": [
       "The average of these distributions, $\\vec{\\pi}$, is  $\\left[\\begin{matrix}0.0 & 0.0 & 0.0 & 0.0 & 0.0 & 0.0 & 0.6 & 0.0 & 0.4\\end{matrix}\\right]$ "
      ],
      "text/plain": [
       "<IPython.core.display.Latex object>"
      ]
     },
     "metadata": {},
     "output_type": "display_data"
    },
    {
     "data": {
      "text/latex": [
       "The probability that Nez gets eaten is 0.6"
      ],
      "text/plain": [
       "<IPython.core.display.Latex object>"
      ]
     },
     "metadata": {},
     "output_type": "display_data"
    },
    {
     "data": {
      "text/latex": [
       "The probability that Nez gets home safely is 0.4"
      ],
      "text/plain": [
       "<IPython.core.display.Latex object>"
      ]
     },
     "metadata": {},
     "output_type": "display_data"
    },
    {
     "name": "stdout",
     "output_type": "stream",
     "text": [
      "---------------------------------------------------------------------------------\n"
     ]
    },
    {
     "data": {
      "text/latex": [
       "Initial distribution $=$ $\\left[\\begin{matrix}0.0 & 1.0 & 0.0 & 0.0 & 0.0 & 0.0 & 0.0 & 0.0 & 0.0\\end{matrix}\\right]$ "
      ],
      "text/plain": [
       "<IPython.core.display.Latex object>"
      ]
     },
     "metadata": {},
     "output_type": "display_data"
    },
    {
     "data": {
      "text/latex": [
       "initialized tpdf =  $\\left[\\begin{matrix}0.0 & 1.0 & 0.0 & 0.0 & 0.0 & 0.0 & 0.0 & 0.0 & 0.0\\\\0.0 & 0.0 & 0.0 & 0.0 & 0.0 & 0.0 & 0.0 & 0.0 & 0.0\\\\0.0 & 0.0 & 0.0 & 0.0 & 0.0 & 0.0 & 0.0 & 0.0 & 0.0\\\\0.0 & 0.0 & 0.0 & 0.0 & 0.0 & 0.0 & 0.0 & 0.0 & 0.0\\\\0.0 & 0.0 & 0.0 & 0.0 & 0.0 & 0.0 & 0.0 & 0.0 & 0.0\\\\0.0 & 0.0 & 0.0 & 0.0 & 0.0 & 0.0 & 0.0 & 0.0 & 0.0\\\\0.0 & 0.0 & 0.0 & 0.0 & 0.0 & 0.0 & 0.0 & 0.0 & 0.0\\\\0.0 & 0.0 & 0.0 & 0.0 & 0.0 & 0.0 & 0.0 & 0.0 & 0.0\\\\0.0 & 0.0 & 0.0 & 0.0 & 0.0 & 0.0 & 0.0 & 0.0 & 0.0\\\\0.0 & 0.0 & 0.0 & 0.0 & 0.0 & 0.0 & 0.0 & 0.0 & 0.0\\end{matrix}\\right]$ "
      ],
      "text/plain": [
       "<IPython.core.display.Latex object>"
      ]
     },
     "metadata": {},
     "output_type": "display_data"
    },
    {
     "data": {
      "text/latex": [
       "Absorbed proportions (by recurrence class)  $\\left[\\begin{matrix}0.5 & 0.5\\end{matrix}\\right]$ "
      ],
      "text/plain": [
       "<IPython.core.display.Latex object>"
      ]
     },
     "metadata": {},
     "output_type": "display_data"
    },
    {
     "data": {
      "image/png": "[encoded data removed]",
      "text/plain": [
       "<matplotlib.figure.Figure at 0x10e026c50>"
      ]
     },
     "metadata": {},
     "output_type": "display_data"
    },
    {
     "data": {
      "text/latex": [
       "Mean absorption time is 9.49312586164"
      ],
      "text/plain": [
       "<IPython.core.display.Latex object>"
      ]
     },
     "metadata": {},
     "output_type": "display_data"
    },
    {
     "data": {
      "text/latex": [
       "I did 1000 steps. The last 10 distributions are written as below:"
      ],
      "text/plain": [
       "<IPython.core.display.Latex object>"
      ]
     },
     "metadata": {},
     "output_type": "display_data"
    },
    {
     "data": {
      "text/latex": [
       " $\\left[\\begin{matrix}0.0 & 0.0 & 0.0 & 0.0 & 0.0 & 0.0 & 0.5 & 0.0 & 0.5\\\\0.0 & 0.0 & 0.0 & 0.0 & 0.0 & 0.0 & 0.5 & 0.0 & 0.5\\\\0.0 & 0.0 & 0.0 & 0.0 & 0.0 & 0.0 & 0.5 & 0.0 & 0.5\\\\0.0 & 0.0 & 0.0 & 0.0 & 0.0 & 0.0 & 0.5 & 0.0 & 0.5\\\\0.0 & 0.0 & 0.0 & 0.0 & 0.0 & 0.0 & 0.5 & 0.0 & 0.5\\\\0.0 & 0.0 & 0.0 & 0.0 & 0.0 & 0.0 & 0.5 & 0.0 & 0.5\\\\0.0 & 0.0 & 0.0 & 0.0 & 0.0 & 0.0 & 0.5 & 0.0 & 0.5\\\\0.0 & 0.0 & 0.0 & 0.0 & 0.0 & 0.0 & 0.5 & 0.0 & 0.5\\\\0.0 & 0.0 & 0.0 & 0.0 & 0.0 & 0.0 & 0.5 & 0.0 & 0.5\\\\0.0 & 0.0 & 0.0 & 0.0 & 0.0 & 0.0 & 0.5 & 0.0 & 0.5\\end{matrix}\\right]$ "
      ],
      "text/plain": [
       "array([[  3.42937440e-60,   0.00000000e+00,   3.42937440e-60,\n",
       "          0.00000000e+00,   5.35514924e-60,   0.00000000e+00,\n",
       "          5.00000000e-01,   0.00000000e+00,   5.00000000e-01],\n",
       "       [  0.00000000e+00,   4.76816171e-60,   0.00000000e+00,\n",
       "          3.05347451e-60,   0.00000000e+00,   3.05347451e-60,\n",
       "          5.00000000e-01,   1.33878731e-60,   5.00000000e-01],\n",
       "       [  2.60721207e-60,   0.00000000e+00,   2.60721207e-60,\n",
       "          0.00000000e+00,   4.07129934e-60,   0.00000000e+00,\n",
       "          5.00000000e-01,   0.00000000e+00,   5.00000000e-01],\n",
       "       [  0.00000000e+00,   3.62503691e-60,   0.00000000e+00,\n",
       "          2.32143087e-60,   0.00000000e+00,   2.32143087e-60,\n",
       "          5.00000000e-01,   1.01782484e-60,   5.00000000e-01],\n",
       "       [  1.98215593e-60,   0.00000000e+00,   1.98215593e-60,\n",
       "          0.00000000e+00,   3.09524116e-60,   0.00000000e+00,\n",
       "          5.00000000e-01,   0.00000000e+00,   5.00000000e-01],\n",
       "       [  0.00000000e+00,   2.75596622e-60,   0.00000000e+00,\n",
       "          1.76488825e-60,   0.00000000e+00,   1.76488825e-60,\n",
       "          5.00000000e-01,   7.73810290e-61,   5.00000000e-01],\n",
       "       [  1.50695149e-60,   0.00000000e+00,   1.50695149e-60,\n",
       "          0.00000000e+00,   2.35318434e-60,   0.00000000e+00,\n",
       "          5.00000000e-01,   0.00000000e+00,   5.00000000e-01],\n",
       "       [  0.00000000e+00,   2.09524757e-60,   0.00000000e+00,\n",
       "          1.34177183e-60,   0.00000000e+00,   1.34177183e-60,\n",
       "          5.00000000e-01,   5.88296084e-61,   5.00000000e-01],\n",
       "       [  1.14567313e-60,   0.00000000e+00,   1.14567313e-60,\n",
       "          0.00000000e+00,   1.78902911e-60,   0.00000000e+00,\n",
       "          5.00000000e-01,   0.00000000e+00,   5.00000000e-01],\n",
       "       [  0.00000000e+00,   1.59293041e-60,   0.00000000e+00,\n",
       "          1.02009384e-60,   0.00000000e+00,   1.02009384e-60,\n",
       "          5.00000000e-01,   4.47257276e-61,   5.00000000e-01]])"
      ]
     },
     "metadata": {},
     "output_type": "display_data"
    },
    {
     "data": {
      "text/latex": [
       "The average of these distributions, $\\vec{\\pi}$, is  $\\left[\\begin{matrix}0.0 & 0.0 & 0.0 & 0.0 & 0.0 & 0.0 & 0.5 & 0.0 & 0.5\\end{matrix}\\right]$ "
      ],
      "text/plain": [
       "<IPython.core.display.Latex object>"
      ]
     },
     "metadata": {},
     "output_type": "display_data"
    },
    {
     "data": {
      "text/latex": [
       "The probability that Nez gets eaten is 0.5"
      ],
      "text/plain": [
       "<IPython.core.display.Latex object>"
      ]
     },
     "metadata": {},
     "output_type": "display_data"
    },
    {
     "data": {
      "text/latex": [
       "The probability that Nez gets home safely is 0.5"
      ],
      "text/plain": [
       "<IPython.core.display.Latex object>"
      ]
     },
     "metadata": {},
     "output_type": "display_data"
    },
    {
     "name": "stdout",
     "output_type": "stream",
     "text": [
      "---------------------------------------------------------------------------------\n"
     ]
    },
    {
     "data": {
      "text/latex": [
       "Initial distribution $=$ $\\left[\\begin{matrix}0.0 & 0.0 & 0.0 & 0.0 & 0.0 & 1.0 & 0.0 & 0.0 & 0.0\\end{matrix}\\right]$ "
      ],
      "text/plain": [
       "<IPython.core.display.Latex object>"
      ]
     },
     "metadata": {},
     "output_type": "display_data"
    },
    {
     "data": {
      "text/latex": [
       "initialized tpdf =  $\\left[\\begin{matrix}0.0 & 0.0 & 0.0 & 0.0 & 0.0 & 1.0 & 0.0 & 0.0 & 0.0\\\\0.0 & 0.0 & 0.0 & 0.0 & 0.0 & 0.0 & 0.0 & 0.0 & 0.0\\\\0.0 & 0.0 & 0.0 & 0.0 & 0.0 & 0.0 & 0.0 & 0.0 & 0.0\\\\0.0 & 0.0 & 0.0 & 0.0 & 0.0 & 0.0 & 0.0 & 0.0 & 0.0\\\\0.0 & 0.0 & 0.0 & 0.0 & 0.0 & 0.0 & 0.0 & 0.0 & 0.0\\\\0.0 & 0.0 & 0.0 & 0.0 & 0.0 & 0.0 & 0.0 & 0.0 & 0.0\\\\0.0 & 0.0 & 0.0 & 0.0 & 0.0 & 0.0 & 0.0 & 0.0 & 0.0\\\\0.0 & 0.0 & 0.0 & 0.0 & 0.0 & 0.0 & 0.0 & 0.0 & 0.0\\\\0.0 & 0.0 & 0.0 & 0.0 & 0.0 & 0.0 & 0.0 & 0.0 & 0.0\\\\0.0 & 0.0 & 0.0 & 0.0 & 0.0 & 0.0 & 0.0 & 0.0 & 0.0\\end{matrix}\\right]$ "
      ],
      "text/plain": [
       "<IPython.core.display.Latex object>"
      ]
     },
     "metadata": {},
     "output_type": "display_data"
    },
    {
     "data": {
      "text/latex": [
       "Absorbed proportions (by recurrence class)  $\\left[\\begin{matrix}0.3 & 0.7\\end{matrix}\\right]$ "
      ],
      "text/plain": [
       "<IPython.core.display.Latex object>"
      ]
     },
     "metadata": {},
     "output_type": "display_data"
    },
    {
     "data": {
      "image/png": "[encoded data removed]",
      "text/plain": [
       "<matplotlib.figure.Figure at 0x10e5c6b38>"
      ]
     },
     "metadata": {},
     "output_type": "display_data"
    },
    {
     "data": {
      "text/latex": [
       "Mean absorption time is 6.49238379407"
      ],
      "text/plain": [
       "<IPython.core.display.Latex object>"
      ]
     },
     "metadata": {},
     "output_type": "display_data"
    },
    {
     "data": {
      "text/latex": [
       "I did 1000 steps. The last 10 distributions are written as below:"
      ],
      "text/plain": [
       "<IPython.core.display.Latex object>"
      ]
     },
     "metadata": {},
     "output_type": "display_data"
    },
    {
     "data": {
      "text/latex": [
       " $\\left[\\begin{matrix}0.0 & 0.0 & 0.0 & 0.0 & 0.0 & 0.0 & 0.3 & 0.0 & 0.7\\\\0.0 & 0.0 & 0.0 & 0.0 & 0.0 & 0.0 & 0.3 & 0.0 & 0.7\\\\0.0 & 0.0 & 0.0 & 0.0 & 0.0 & 0.0 & 0.3 & 0.0 & 0.7\\\\0.0 & 0.0 & 0.0 & 0.0 & 0.0 & 0.0 & 0.3 & 0.0 & 0.7\\\\0.0 & 0.0 & 0.0 & 0.0 & 0.0 & 0.0 & 0.3 & 0.0 & 0.7\\\\0.0 & 0.0 & 0.0 & 0.0 & 0.0 & 0.0 & 0.3 & 0.0 & 0.7\\\\0.0 & 0.0 & 0.0 & 0.0 & 0.0 & 0.0 & 0.3 & 0.0 & 0.7\\\\0.0 & 0.0 & 0.0 & 0.0 & 0.0 & 0.0 & 0.3 & 0.0 & 0.7\\\\0.0 & 0.0 & 0.0 & 0.0 & 0.0 & 0.0 & 0.3 & 0.0 & 0.7\\\\0.0 & 0.0 & 0.0 & 0.0 & 0.0 & 0.0 & 0.3 & 0.0 & 0.7\\end{matrix}\\right]$ "
      ],
      "text/plain": [
       "array([[  2.19613091e-60,   0.00000000e+00,   2.19613091e-60,\n",
       "          0.00000000e+00,   3.42937440e-60,   0.00000000e+00,\n",
       "          3.00000000e-01,   0.00000000e+00,   7.00000000e-01],\n",
       "       [  0.00000000e+00,   3.05347451e-60,   0.00000000e+00,\n",
       "          1.95540905e-60,   0.00000000e+00,   1.95540905e-60,\n",
       "          3.00000000e-01,   8.57343599e-61,   7.00000000e-01],\n",
       "       [  1.66962785e-60,   0.00000000e+00,   1.66962785e-60,\n",
       "          0.00000000e+00,   2.60721207e-60,   0.00000000e+00,\n",
       "          3.00000000e-01,   0.00000000e+00,   7.00000000e-01],\n",
       "       [  0.00000000e+00,   2.32143087e-60,   0.00000000e+00,\n",
       "          1.48661694e-60,   0.00000000e+00,   1.48661694e-60,\n",
       "          3.00000000e-01,   6.51803018e-61,   7.00000000e-01],\n",
       "       [  1.26934927e-60,   0.00000000e+00,   1.26934927e-60,\n",
       "          0.00000000e+00,   1.98215593e-60,   0.00000000e+00,\n",
       "          3.00000000e-01,   0.00000000e+00,   7.00000000e-01],\n",
       "       [  0.00000000e+00,   1.76488825e-60,   0.00000000e+00,\n",
       "          1.13021362e-60,   0.00000000e+00,   1.13021362e-60,\n",
       "          3.00000000e-01,   4.95538981e-61,   7.00000000e-01],\n",
       "       [  9.65033957e-61,   0.00000000e+00,   9.65033957e-61,\n",
       "          0.00000000e+00,   1.50695149e-60,   0.00000000e+00,\n",
       "          3.00000000e-01,   0.00000000e+00,   7.00000000e-01],\n",
       "       [  0.00000000e+00,   1.34177183e-60,   0.00000000e+00,\n",
       "          8.59254851e-61,   0.00000000e+00,   8.59254851e-61,\n",
       "          3.00000000e-01,   3.76737872e-61,   7.00000000e-01],\n",
       "       [  7.33675560e-61,   0.00000000e+00,   7.33675560e-61,\n",
       "          0.00000000e+00,   1.14567313e-60,   0.00000000e+00,\n",
       "          3.00000000e-01,   0.00000000e+00,   7.00000000e-01],\n",
       "       [  0.00000000e+00,   1.02009384e-60,   0.00000000e+00,\n",
       "          6.53256064e-61,   0.00000000e+00,   6.53256064e-61,\n",
       "          3.00000000e-01,   2.86418284e-61,   7.00000000e-01]])"
      ]
     },
     "metadata": {},
     "output_type": "display_data"
    },
    {
     "data": {
      "text/latex": [
       "The average of these distributions, $\\vec{\\pi}$, is  $\\left[\\begin{matrix}0.0 & 0.0 & 0.0 & 0.0 & 0.0 & 0.0 & 0.3 & 0.0 & 0.7\\end{matrix}\\right]$ "
      ],
      "text/plain": [
       "<IPython.core.display.Latex object>"
      ]
     },
     "metadata": {},
     "output_type": "display_data"
    },
    {
     "data": {
      "text/latex": [
       "The probability that Nez gets eaten is 0.3"
      ],
      "text/plain": [
       "<IPython.core.display.Latex object>"
      ]
     },
     "metadata": {},
     "output_type": "display_data"
    },
    {
     "data": {
      "text/latex": [
       "The probability that Nez gets home safely is 0.7"
      ],
      "text/plain": [
       "<IPython.core.display.Latex object>"
      ]
     },
     "metadata": {},
     "output_type": "display_data"
    }
   ],
   "source": [
    "printltx(r\"Transition matrix $=$\" + ltxmtx(P))\n",
    "if architecture_check_passed:\n",
    "    for initial_distribution in initial_distributions:\n",
    "        print(r\"---------------------------------------------------------------------------------\")\n",
    "        printltx(r\"Initial distribution $=$\" + ltxmtx(initial_distribution))\n",
    "        initial_parameters = [num_of_steps, num_of_records, num_of_states,\n",
    "                     P, initial_distribution]\n",
    "        matrix_multiplication_evolution_tpdf = matrix_multiplication_evolution(initial_parameters)\n",
    "        print_conclusions(num_of_steps, num_of_records, num_of_samples, matrix_multiplication_evolution_tpdf, 'matrix_multiplication_evolution')"
   ]
  },
  {
   "cell_type": "markdown",
   "metadata": {},
   "source": [
    "## Conclusions"
   ]
  },
  {
   "cell_type": "markdown",
   "metadata": {},
   "source": [
    "If Nez starts at room 0, he is slightly more likely, on average, to get eaten.  \n",
    "If Nez starts at room 1, he is slightly less likely, on average, to get eaten.  \n",
    "However, is Nez starts at room 5, he is far more likely to make it to his hole and not get eaten."
   ]
  }
 ],
 "metadata": {
  "kernelspec": {
   "display_name": "Python 3",
   "language": "python",
   "name": "python3"
  },
  "language_info": {
   "codemirror_mode": {
    "name": "ipython",
    "version": 3
   },
   "file_extension": ".py",
   "mimetype": "text/x-python",
   "name": "python",
   "nbconvert_exporter": "python",
   "pygments_lexer": "ipython3",
   "version": "3.4.4"
  }
 },
 "nbformat": 4,
 "nbformat_minor": 0
}
