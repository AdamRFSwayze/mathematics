{
 "cells": [
  {
   "cell_type": "markdown",
   "metadata": {},
   "source": [
    "# Finite State, Discrete Time Markov Chains\n",
    "---"
   ]
  },
  {
   "cell_type": "code",
   "execution_count": 2,
   "metadata": {
    "collapsed": false
   },
   "outputs": [],
   "source": [
    "from header import *"
   ]
  },
  {
   "cell_type": "markdown",
   "metadata": {},
   "source": [
    "## Overview\n",
    "\n",
    "There are 3 different methods of finding $\\vec{\\pi}$ (which represents the probability of being in each state on average):\n",
    "1. evolution via sample evolution\n",
    "2. evolution via matrix multiplication\n",
    "3. evolution via eigenvalues and eigenvectors\n",
    "\n",
    "We are going to write methods for each and see how their results compare."
   ]
  },
  {
   "cell_type": "markdown",
   "metadata": {},
   "source": [
    "## System Checks\n",
    "\n",
    "First let's write a method to do some basic checks:\n",
    "1. Check to make sure the dimensions of the transition matrix and distribution matrix are compatible\n",
    "2. Each row of the transition matrix sums to 1"
   ]
  },
  {
   "cell_type": "code",
   "execution_count": 3,
   "metadata": {
    "collapsed": false
   },
   "outputs": [],
   "source": [
    "def architecture_check_passed(transition_matrix, initial_distribution_matrix):\n",
    "    num_of_states = transition_matrix.shape[0]\n",
    "    if initial_distribution_matrix.shape[0] != num_of_states:\n",
    "        #print(\"Transition matrix and initial distribution dimensions don't match\")\n",
    "        return False\n",
    "\n",
    "    row_sums  = np.sum(transition_matrix, 1)\n",
    "    should_be = np.ones_like(row_sums)\n",
    "    if np.allclose(row_sums, should_be) == False:\n",
    "        #print('Rows of transition matrix do not all sum to 1')\n",
    "        return False\n",
    "    return True"
   ]
  },
  {
   "cell_type": "markdown",
   "metadata": {},
   "source": [
    "## Sample Evolution\n",
    "\n",
    "1. Create a matrix called \"simulation_ledger\" and let it evolve through random choices\n",
    "2. Compute empirical probability distribution function - this is done by simulating the behavior of samples"
   ]
  },
  {
   "cell_type": "code",
   "execution_count": 4,
   "metadata": {
    "collapsed": false,
    "scrolled": true
   },
   "outputs": [],
   "source": [
    "def sample_evolution(initial_parameters):\n",
    "    # unpack list\n",
    "    num_of_steps                = initial_parameters[0]\n",
    "    num_of_records              = initial_parameters[1]\n",
    "    num_of_states               = initial_parameters[2]\n",
    "    num_of_samples              = initial_parameters[3]\n",
    "    transition_matrix           = initial_parameters[4]\n",
    "    initial_distribution_matrix = initial_parameters[5]\n",
    "    \n",
    "    ### -------------- set stage for simulation -------------- ###\n",
    "    # create empirical probability distribution function\n",
    "    epdf                               = np.zeros([num_of_records, num_of_states], dtype = float)\n",
    "    # initial the epdf by writing the initial distribution matrix to epdf\n",
    "    epdf[0]                            = initial_distribution_matrix[:]\n",
    "    #printltx(r\"initialized epdf = \" + ltxmtx(epdf))\n",
    "    \n",
    "    scaled_initial_distribution_matrix = np.rint(initial_distribution_matrix*num_of_samples).astype(int)\n",
    "    simulation_ledger                  = np.zeros([num_of_records, num_of_samples], dtype = int)\n",
    "\n",
    "    # initialize simulation ledger by distributing probabilities\n",
    "    # from the initial distribution matrix to the sample population\n",
    "    simulation_ledger_index_1 = 0\n",
    "    for state_index in range(num_of_states):\n",
    "        simulation_ledger_index_2 = simulation_ledger_index_1 + scaled_initial_distribution_matrix[state_index]\n",
    "        simulation_ledger[0, simulation_ledger_index_1:simulation_ledger_index_2] = state_index\n",
    "        simulation_ledger_index_1 = simulation_ledger_index_2\n",
    "    # shuffle the columns in the first row\n",
    "    np.random.shuffle(simulation_ledger[0])\n",
    "    \n",
    "    ### -------------- run the simulation -------------- ###\n",
    "    for step in range(num_of_steps):\n",
    "        # \"step\" here refers to the location with respect to the number of records\n",
    "        # since we're looping through the same array\n",
    "        current_step = step % num_of_records\n",
    "        next_step    = (step + 1) % num_of_records\n",
    "        for sample in range(num_of_samples):\n",
    "            current_state      = simulation_ledger[current_step, sample]\n",
    "            # choose random number between 0 and 1\n",
    "            random_probability = np.random.rand()\n",
    "            # randomly decide which state sample goes to next\n",
    "            for next_state in range(num_of_states):\n",
    "                random_probability -= transition_matrix[current_state, next_state]\n",
    "                if random_probability < 0:\n",
    "                    simulation_ledger[next_step, sample] = next_state\n",
    "                    break\n",
    "        epdf[next_step, :] = np.histogram(simulation_ledger[next_step, :], \\\n",
    "                                          normed = True, bins = range(num_of_states + 1))[0]\n",
    "    \n",
    "    # right now, the last distribution is not necessarily on the bottom of the epdf matrix;\n",
    "    # so, the following code rearranges the rows of the matrix to make sure the final distribution is on bottom\n",
    "    epdf = np.roll(epdf, num_of_records - next_step - 1, axis = 0)\n",
    "    return epdf"
   ]
  },
  {
   "cell_type": "markdown",
   "metadata": {},
   "source": [
    "## Matrix Multiplication Evolution\n",
    "\n",
    "Evolution via matrix multiplication is the mathy way to achieve similar results to doing the sample evolution above. Below are some things to keep in mind:\n",
    "\n",
    "1. p(i, j) = probability that a sample at state i now will jump to state j next\n",
    "2. the arrows (if you're looking at a diagram of the random walk) out of each state better add up to 1\n",
    "    * sum(transition_matrix[i, :]) = 1 where row is where you are now and column where you might go next\n",
    "3. you can encode the probability of going from one state to another in a transition matrix $TransitionMatrix_{i j}$"
   ]
  },
  {
   "cell_type": "code",
   "execution_count": 5,
   "metadata": {
    "collapsed": false
   },
   "outputs": [],
   "source": [
    "def matrix_multiplication_evolution(initial_parameters):\n",
    "    # unpack list\n",
    "    num_of_steps                = initial_parameters[0]\n",
    "    num_of_records              = initial_parameters[1]\n",
    "    num_of_states               = initial_parameters[2]\n",
    "    transition_matrix           = initial_parameters[3]\n",
    "    initial_distribution_matrix = initial_parameters[4]\n",
    "    \n",
    "    ### -------------- set stage for simulation -------------- ###\n",
    "    # create ________ probability distribution function\n",
    "    tpdf    = np.zeros([num_of_records, num_of_states], dtype = float)\n",
    "    # initialize the tpdf by writing the initial distribution matrix to tpdf\n",
    "    tpdf[0] = initial_distribution_matrix[:]\n",
    "    printltx(r\"initialized tpdf = \" + ltxmtx(tpdf))\n",
    "    \n",
    "    ### -------------- run the simulation -------------- ###\n",
    "    for step in range(num_of_steps):\n",
    "        current_step       = step % num_of_records\n",
    "        next_step          = (step + 1) % num_of_records\n",
    "        tpdf[next_step, :] = tpdf[current_step, :].dot(transition_matrix)\n",
    "    \n",
    "    # right now, the last distribution is not necessarily on the bottom of the epdf matrix;\n",
    "    # so, the following code rearranges the rows of the matrix to make sure the final distribution is on bottom\n",
    "    tpdf = np.roll(tpdf, num_of_records - next_step - 1, axis = 0)\n",
    "    \n",
    "    return tpdf"
   ]
  },
  {
   "cell_type": "markdown",
   "metadata": {},
   "source": [
    "## Eigenvalues/Eigenvectors Evolution\n",
    "\n",
    "Computing future behavior in this way actually doesn't even depend on the present.\n",
    "\n",
    "The transition matrix will be $P = L^{-1}JL$ where $L$ has rows that are left eigenvectors of $P$.  \n",
    "$J$ is a diagonal matrix with each element on its diagonal being a Jordan block."
   ]
  },
  {
   "cell_type": "code",
   "execution_count": 6,
   "metadata": {
    "collapsed": false
   },
   "outputs": [],
   "source": [
    "def normalize_rows(left_eigenvectors):\n",
    "    tol = 0.001\n",
    "    n = left_eigenvectors.shape[0]\n",
    "    for i in range(n):\n",
    "        s = np.sum(left_eigenvectors[i, :])\n",
    "        if abs(s) > tol:\n",
    "            left_eigenvectors[i, :] *= 1/s\n",
    "        else:\n",
    "            for j in range(n):\n",
    "                if abs(left_eigenvectors[i, j]) > tol:\n",
    "                    left_eigenvectors[i, :] *= 1/left_eigenvectors[i, j]\n",
    "                    break\n",
    "    return left_eigenvectors\n",
    "\n",
    "def eigen_future(transition_matrix, initial_distribution_matrix):\n",
    "    # numpy gives us Pv = lambda*v which return right eigenvectors\n",
    "    # but we want vP = lambda*v\n",
    "    (eigenvalues, left_eigenvectors_transpose) = np.linalg.eig(transition_matrix.T) # returns left vectors but they're in columns\n",
    "    left_eigenvectors                          = left_eigenvectors_transpose.T\n",
    "    \n",
    "    # sort so that largest eigenvalue is first (descending length, then descending real part,\n",
    "    # then descending imaginary part)\n",
    "    eigenvalue_lengths                         = np.abs(eigenvalues).round(4) # must round, else eigenvalues of same true length may appear to be of different lengths\n",
    "    eigenvalue_real_part                       = np.real(eigenvalues).round(4)\n",
    "    eigenvalue_imaginary_part                  = np.imag(eigenvalues).round(4)\n",
    "    sort                                       = np.lexsort([eigenvalue_imaginary_part, eigenvalue_real_part, eigenvalue_lengths]) # sort priority goes right to left, for some reason\n",
    "    # lexsort does ascending sort; this changes to descending, as desired\n",
    "    sort                                       = sort[::-1]\n",
    "    eigenvalues                                = eigenvalues[sort]\n",
    "    left_eigenvectors                          = left_eigenvectors[sort]\n",
    "    eigenvalue_lengths                         = eigenvalue_lengths[sort]\n",
    "    \n",
    "    left_eigenvectors                          = normalize_rows(left_eigenvectors)\n",
    "    right_eigenvectors                         = np.linalg.inv(left_eigenvectors)\n",
    "    diagonal_matrix                            = np.diag(eigenvalues)\n",
    "    \n",
    "    num_of_states                              = transition_matrix.shape[0]\n",
    "    transient_states                           = eigenvalue_lengths < 1\n",
    "    period                                     = num_of_states - np.sum(transient_states)\n",
    "    diagonal_matrix_copy                       = diagonal_matrix.copy()\n",
    "    # we know all |lambda| < 1 die in the long run so we jus set them to 0 here\n",
    "    diagonal_matrix_copy[:, transient_states]  = 0\n",
    "    \n",
    "    pdf = np.zeros([period, num_of_states])\n",
    "    for step in range(period):\n",
    "        pdf[step, :] = initial_distribution_matrix.dot(right_eigenvectors).dot(diagonal_matrix_copy**(step + 1)).dot(left_eigenvectors)\n",
    "    printltx(r\"The analysis via eigenvectors says that, in the long run, this sytem should oscillate through the distributions below.\")\n",
    "    display(pdf)\n",
    "    printltx(r\"The average of these distributions is \" + ltxmtx(np.mean(pdf, 0)))\n",
    "    return left_eigenvectors"
   ]
  },
  {
   "cell_type": "markdown",
   "metadata": {},
   "source": [
    "### Conclusion Function"
   ]
  },
  {
   "cell_type": "code",
   "execution_count": 7,
   "metadata": {
    "collapsed": false
   },
   "outputs": [],
   "source": [
    "def print_conclusions(num_of_steps, num_of_records, num_of_samples, pdf, method):\n",
    "    if method == 'sample_evolution':\n",
    "        printltx(r\"I did \" + str(num_of_steps) + \" steps with \" + str(num_of_samples) + \\\n",
    "                 \" samples. The last \" + str(num_of_records) + \\\n",
    "                 \" distributions are written as below:\")\n",
    "        display(pdf)\n",
    "        printltx(r\"The average of these distributions, $\\vec{\\pi}$, is \" + ltxmtx(np.mean(pdf, 0)))\n",
    "    if method == 'matrix_multiplication_evolution':\n",
    "        printltx(r\"I did \" + str(num_of_steps) + \" steps. The last \" + \\\n",
    "                 str(num_of_records) + \" distributions are written as below:\")\n",
    "        display(pdf)\n",
    "        printltx(r\"The average of these distributions, $\\vec{\\pi}$, is \" + ltxmtx(np.mean(pdf, 0)))\n",
    "    if method == 'eigen_future':\n",
    "        return None"
   ]
  },
  {
   "cell_type": "markdown",
   "metadata": {},
   "source": [
    "## Testing the Methods\n",
    "\n",
    "Consider the biased, non-lazy random walk on $\\{0, 1, 2, ..., N - 1\\}$.  \n",
    "At interior states $\\{1, 2, ..., N - 2\\}$, there is a probability $p$ of jumping right and $q = 1 - p$ of jumping left.\n",
    "\n",
    "We're going to test the above 3 methods on this random walk using 3 different boundary conditions on the boundary states ($0$ and $N - 1$) of the walk:\n",
    "1. absorbing - once you reach $0$ and $N - 1$, you stay there with probability $1$\n",
    "2. reflecting - once you reach $0$ and $N - 1$, you next jump to the adjacent interior state with probability $1$\n",
    "3. semi-reflecting - At $0$, you jump to $1$ with probability $p$ and stay at $0$ with probability $q$. At $N - 1$, you jump to $N - 2$ with probability $q$ and stay at $N - 1$ with probability $p$.\n",
    "\n",
    "Each boundary condition will have a different transition matrix to describe it so it'd be best to create a function that will take any given transition matrix and apply a boundary condition on it."
   ]
  },
  {
   "cell_type": "code",
   "execution_count": 8,
   "metadata": {
    "collapsed": false
   },
   "outputs": [],
   "source": [
    "def apply_boundary_condition(condition, transition_matrix, p):\n",
    "    q = 1 - p\n",
    "    num_of_states = transition_matrix[0].shape[0]\n",
    "    if condition == 'absorbing':\n",
    "        # create beginning boundary\n",
    "        beginning_boundary    = np.zeros(num_of_states)\n",
    "        beginning_boundary[0] = 1\n",
    "        # create end boundary\n",
    "        end_boundary          = np.zeros(num_of_states)\n",
    "        end_boundary[-1]      = 1\n",
    "        # apply boundaries to transition matrix\n",
    "        transition_matrix[0]  = beginning_boundary\n",
    "        transition_matrix[-1] = end_boundary\n",
    "        return transition_matrix\n",
    "    elif condition == 'reflecting':\n",
    "        # create beginning boundary\n",
    "        beginning_boundary    = np.zeros(num_of_states)\n",
    "        beginning_boundary[1] = 1\n",
    "        # create end boundary\n",
    "        end_boundary          = np.zeros(num_of_states)\n",
    "        end_boundary[-2]      = 1\n",
    "        # apply boundaries to transition matrix\n",
    "        transition_matrix[0]  = beginning_boundary\n",
    "        transition_matrix[-1] = end_boundary\n",
    "        return transition_matrix\n",
    "    elif condition == 'semi-reflecting':\n",
    "        # create beginning boundary\n",
    "        beginning_boundary    = np.zeros(num_of_states)\n",
    "        beginning_boundary[0] = q\n",
    "        beginning_boundary[1] = p\n",
    "        # create end boundary\n",
    "        end_boundary          = np.zeros(num_of_states)\n",
    "        end_boundary[-1]      = p\n",
    "        end_boundary[-2]      = q\n",
    "        # apply boundaries to transition matrix\n",
    "        transition_matrix[0]  = beginning_boundary\n",
    "        transition_matrix[-1] = end_boundary\n",
    "        return transition_matrix\n",
    "    else:\n",
    "        return transition_matrix"
   ]
  },
  {
   "cell_type": "markdown",
   "metadata": {},
   "source": [
    "** Initialize Values **"
   ]
  },
  {
   "cell_type": "markdown",
   "metadata": {},
   "source": [
    "Define initial distribution matrix and other initial conditions."
   ]
  },
  {
   "cell_type": "code",
   "execution_count": 9,
   "metadata": {
    "collapsed": false
   },
   "outputs": [],
   "source": [
    "initial_distribution_matrix = np.array([0, 0, 1, 0, 0])\n",
    "\n",
    "num_of_steps   = 1000\n",
    "num_of_records = 10\n",
    "num_of_samples = 2000\n",
    "num_of_states  = initial_distribution_matrix.shape[0]\n",
    "p              = 0.6"
   ]
  },
  {
   "cell_type": "markdown",
   "metadata": {},
   "source": [
    "Define a function to create a transition matrix based on $p$ and number of states."
   ]
  },
  {
   "cell_type": "code",
   "execution_count": 10,
   "metadata": {
    "collapsed": true
   },
   "outputs": [],
   "source": [
    "def create_transition_matrix(p, num_of_states):\n",
    "    \"\"\" Creates an nxn transition matrix for a biased non-lazy random walk\"\"\"\n",
    "    q = 1 - p\n",
    "    transition_matrix = np.zeros([num_of_states, num_of_states])\n",
    "    for row in range(num_of_states):\n",
    "        if row+1 != num_of_states-1:            \n",
    "            transition_matrix[row+1, row]   = q\n",
    "            transition_matrix[row+1, row+2] = p\n",
    "        else:\n",
    "            return transition_matrix"
   ]
  },
  {
   "cell_type": "markdown",
   "metadata": {},
   "source": [
    "### Testing Sample Evolution"
   ]
  },
  {
   "cell_type": "markdown",
   "metadata": {},
   "source": [
    "**Absorbing Test**"
   ]
  },
  {
   "cell_type": "code",
   "execution_count": 11,
   "metadata": {
    "collapsed": false
   },
   "outputs": [
    {
     "data": {
      "text/latex": [
       "Transition matrix $=$ $\\left[\\begin{matrix}1.0 & 0.0 & 0.0 & 0.0 & 0.0\\\\0.4 & 0.0 & 0.6 & 0.0 & 0.0\\\\0.0 & 0.4 & 0.0 & 0.6 & 0.0\\\\0.0 & 0.0 & 0.4 & 0.0 & 0.6\\\\0.0 & 0.0 & 0.0 & 0.0 & 1.0\\end{matrix}\\right]$ "
      ],
      "text/plain": [
       "<IPython.core.display.Latex object>"
      ]
     },
     "metadata": {},
     "output_type": "display_data"
    },
    {
     "data": {
      "text/latex": [
       "Initial distribution $=$ $\\left[\\begin{matrix}0.0 & 0.0 & 1.0 & 0.0 & 0.0\\end{matrix}\\right]$ "
      ],
      "text/plain": [
       "<IPython.core.display.Latex object>"
      ]
     },
     "metadata": {},
     "output_type": "display_data"
    },
    {
     "data": {
      "text/latex": [
       "I did 1000 steps with 2000 samples. The last 10 distributions are written as below:"
      ],
      "text/plain": [
       "<IPython.core.display.Latex object>"
      ]
     },
     "metadata": {},
     "output_type": "display_data"
    },
    {
     "data": {
      "text/latex": [
       " $\\left[\\begin{matrix}0.292 & 0.0 & 0.0 & 0.0 & 0.708\\\\0.292 & 0.0 & 0.0 & 0.0 & 0.708\\\\0.292 & 0.0 & 0.0 & 0.0 & 0.708\\\\0.292 & 0.0 & 0.0 & 0.0 & 0.708\\\\0.292 & 0.0 & 0.0 & 0.0 & 0.708\\\\0.292 & 0.0 & 0.0 & 0.0 & 0.708\\\\0.292 & 0.0 & 0.0 & 0.0 & 0.708\\\\0.292 & 0.0 & 0.0 & 0.0 & 0.708\\\\0.292 & 0.0 & 0.0 & 0.0 & 0.708\\\\0.292 & 0.0 & 0.0 & 0.0 & 0.708\\end{matrix}\\right]$ "
      ],
      "text/plain": [
       "array([[ 0.292,  0.   ,  0.   ,  0.   ,  0.708],\n",
       "       [ 0.292,  0.   ,  0.   ,  0.   ,  0.708],\n",
       "       [ 0.292,  0.   ,  0.   ,  0.   ,  0.708],\n",
       "       [ 0.292,  0.   ,  0.   ,  0.   ,  0.708],\n",
       "       [ 0.292,  0.   ,  0.   ,  0.   ,  0.708],\n",
       "       [ 0.292,  0.   ,  0.   ,  0.   ,  0.708],\n",
       "       [ 0.292,  0.   ,  0.   ,  0.   ,  0.708],\n",
       "       [ 0.292,  0.   ,  0.   ,  0.   ,  0.708],\n",
       "       [ 0.292,  0.   ,  0.   ,  0.   ,  0.708],\n",
       "       [ 0.292,  0.   ,  0.   ,  0.   ,  0.708]])"
      ]
     },
     "metadata": {},
     "output_type": "display_data"
    },
    {
     "data": {
      "text/latex": [
       "The average of these distributions, $\\vec{\\pi}$, is  $\\left[\\begin{matrix}0.292 & 0.0 & 0.0 & 0.0 & 0.708\\end{matrix}\\right]$ "
      ],
      "text/plain": [
       "<IPython.core.display.Latex object>"
      ]
     },
     "metadata": {},
     "output_type": "display_data"
    }
   ],
   "source": [
    "transition_matrix  = create_transition_matrix(p, num_of_states)\n",
    "transition_matrix  = apply_boundary_condition('absorbing', transition_matrix, p)\n",
    "\n",
    "initial_parameters = [num_of_steps, num_of_records, num_of_states, num_of_samples,\n",
    "                     transition_matrix, initial_distribution_matrix]\n",
    "\n",
    "# run the test\n",
    "printltx(r\"Transition matrix $=$\" + ltxmtx(transition_matrix))\n",
    "printltx(r\"Initial distribution $=$\" + ltxmtx(initial_distribution_matrix))\n",
    "if architecture_check_passed:\n",
    "    sample_evolution_epdf = sample_evolution(initial_parameters)\n",
    "    print_conclusions(num_of_steps, num_of_records, num_of_samples, sample_evolution_epdf, 'sample_evolution')"
   ]
  },
  {
   "cell_type": "markdown",
   "metadata": {},
   "source": [
    "** Reflecting Test **"
   ]
  },
  {
   "cell_type": "code",
   "execution_count": 12,
   "metadata": {
    "collapsed": false
   },
   "outputs": [
    {
     "data": {
      "text/latex": [
       "Transition matrix $=$ $\\left[\\begin{matrix}0.0 & 1.0 & 0.0 & 0.0 & 0.0\\\\0.4 & 0.0 & 0.6 & 0.0 & 0.0\\\\0.0 & 0.4 & 0.0 & 0.6 & 0.0\\\\0.0 & 0.0 & 0.4 & 0.0 & 0.6\\\\0.0 & 0.0 & 0.0 & 1.0 & 0.0\\end{matrix}\\right]$ "
      ],
      "text/plain": [
       "<IPython.core.display.Latex object>"
      ]
     },
     "metadata": {},
     "output_type": "display_data"
    },
    {
     "data": {
      "text/latex": [
       "Initial distribution $=$ $\\left[\\begin{matrix}0.0 & 0.0 & 1.0 & 0.0 & 0.0\\end{matrix}\\right]$ "
      ],
      "text/plain": [
       "<IPython.core.display.Latex object>"
      ]
     },
     "metadata": {},
     "output_type": "display_data"
    },
    {
     "data": {
      "text/latex": [
       "I did 1000 steps with 2000 samples. The last 10 distributions are written as below:"
      ],
      "text/plain": [
       "<IPython.core.display.Latex object>"
      ]
     },
     "metadata": {},
     "output_type": "display_data"
    },
    {
     "data": {
      "text/latex": [
       " $\\left[\\begin{matrix}0.0 & 0.31 & 0.0 & 0.69 & 0.0\\\\0.1335 & 0.0 & 0.4455 & 0.0 & 0.421\\\\0.0 & 0.3125 & 0.0 & 0.6875 & 0.0\\\\0.13 & 0.0 & 0.4515 & 0.0 & 0.4185\\\\0.0 & 0.3115 & 0.0 & 0.6885 & 0.0\\\\0.1225 & 0.0 & 0.47 & 0.0 & 0.4075\\\\0.0 & 0.3085 & 0.0 & 0.6915 & 0.0\\\\0.127 & 0.0 & 0.481 & 0.0 & 0.392\\\\0.0 & 0.3155 & 0.0 & 0.6845 & 0.0\\\\0.128 & 0.0 & 0.4635 & 0.0 & 0.4085\\end{matrix}\\right]$ "
      ],
      "text/plain": [
       "array([[ 0.    ,  0.31  ,  0.    ,  0.69  ,  0.    ],\n",
       "       [ 0.1335,  0.    ,  0.4455,  0.    ,  0.421 ],\n",
       "       [ 0.    ,  0.3125,  0.    ,  0.6875,  0.    ],\n",
       "       [ 0.13  ,  0.    ,  0.4515,  0.    ,  0.4185],\n",
       "       [ 0.    ,  0.3115,  0.    ,  0.6885,  0.    ],\n",
       "       [ 0.1225,  0.    ,  0.47  ,  0.    ,  0.4075],\n",
       "       [ 0.    ,  0.3085,  0.    ,  0.6915,  0.    ],\n",
       "       [ 0.127 ,  0.    ,  0.481 ,  0.    ,  0.392 ],\n",
       "       [ 0.    ,  0.3155,  0.    ,  0.6845,  0.    ],\n",
       "       [ 0.128 ,  0.    ,  0.4635,  0.    ,  0.4085]])"
      ]
     },
     "metadata": {},
     "output_type": "display_data"
    },
    {
     "data": {
      "text/latex": [
       "The average of these distributions, $\\vec{\\pi}$, is  $\\left[\\begin{matrix}0.0641 & 0.1558 & 0.2311 & 0.3442 & 0.2047\\end{matrix}\\right]$ "
      ],
      "text/plain": [
       "<IPython.core.display.Latex object>"
      ]
     },
     "metadata": {},
     "output_type": "display_data"
    }
   ],
   "source": [
    "transition_matrix  = create_transition_matrix(p, num_of_states)\n",
    "transition_matrix  = apply_boundary_condition('reflecting', transition_matrix, p)\n",
    "\n",
    "initial_parameters = [num_of_steps, num_of_records, num_of_states, num_of_samples,\n",
    "                     transition_matrix, initial_distribution_matrix]\n",
    "\n",
    "# run the test\n",
    "printltx(r\"Transition matrix $=$\" + ltxmtx(transition_matrix))\n",
    "printltx(r\"Initial distribution $=$\" + ltxmtx(initial_distribution_matrix))\n",
    "if architecture_check_passed:\n",
    "    sample_evolution_epdf = sample_evolution(initial_parameters)\n",
    "    print_conclusions(num_of_steps, num_of_records, num_of_samples, sample_evolution_epdf, 'sample_evolution')"
   ]
  },
  {
   "cell_type": "markdown",
   "metadata": {},
   "source": [
    "** Semi-Reflecting Test **"
   ]
  },
  {
   "cell_type": "code",
   "execution_count": 13,
   "metadata": {
    "collapsed": false
   },
   "outputs": [
    {
     "data": {
      "text/latex": [
       "Transition matrix $=$ $\\left[\\begin{matrix}0.4 & 0.6 & 0.0 & 0.0 & 0.0\\\\0.4 & 0.0 & 0.6 & 0.0 & 0.0\\\\0.0 & 0.4 & 0.0 & 0.6 & 0.0\\\\0.0 & 0.0 & 0.4 & 0.0 & 0.6\\\\0.0 & 0.0 & 0.0 & 0.4 & 0.6\\end{matrix}\\right]$ "
      ],
      "text/plain": [
       "<IPython.core.display.Latex object>"
      ]
     },
     "metadata": {},
     "output_type": "display_data"
    },
    {
     "data": {
      "text/latex": [
       "Initial distribution $=$ $\\left[\\begin{matrix}0.0 & 0.0 & 1.0 & 0.0 & 0.0\\end{matrix}\\right]$ "
      ],
      "text/plain": [
       "<IPython.core.display.Latex object>"
      ]
     },
     "metadata": {},
     "output_type": "display_data"
    },
    {
     "data": {
      "text/latex": [
       "I did 1000 steps with 2000 samples. The last 10 distributions are written as below:"
      ],
      "text/plain": [
       "<IPython.core.display.Latex object>"
      ]
     },
     "metadata": {},
     "output_type": "display_data"
    },
    {
     "data": {
      "text/latex": [
       " $\\left[\\begin{matrix}0.0895 & 0.103 & 0.179 & 0.243 & 0.3855\\\\0.0735 & 0.119 & 0.1615 & 0.2745 & 0.3715\\\\0.079 & 0.108 & 0.178 & 0.2505 & 0.3845\\\\0.072 & 0.1215 & 0.155 & 0.259 & 0.3925\\\\0.0775 & 0.096 & 0.1775 & 0.258 & 0.391\\\\0.07 & 0.118 & 0.163 & 0.2535 & 0.3955\\\\0.0835 & 0.1015 & 0.174 & 0.256 & 0.385\\\\0.072 & 0.1145 & 0.1635 & 0.258 & 0.392\\\\0.0655 & 0.111 & 0.171 & 0.25 & 0.4025\\\\0.0685 & 0.114 & 0.16 & 0.2635 & 0.394\\end{matrix}\\right]$ "
      ],
      "text/plain": [
       "array([[ 0.0895,  0.103 ,  0.179 ,  0.243 ,  0.3855],\n",
       "       [ 0.0735,  0.119 ,  0.1615,  0.2745,  0.3715],\n",
       "       [ 0.079 ,  0.108 ,  0.178 ,  0.2505,  0.3845],\n",
       "       [ 0.072 ,  0.1215,  0.155 ,  0.259 ,  0.3925],\n",
       "       [ 0.0775,  0.096 ,  0.1775,  0.258 ,  0.391 ],\n",
       "       [ 0.07  ,  0.118 ,  0.163 ,  0.2535,  0.3955],\n",
       "       [ 0.0835,  0.1015,  0.174 ,  0.256 ,  0.385 ],\n",
       "       [ 0.072 ,  0.1145,  0.1635,  0.258 ,  0.392 ],\n",
       "       [ 0.0655,  0.111 ,  0.171 ,  0.25  ,  0.4025],\n",
       "       [ 0.0685,  0.114 ,  0.16  ,  0.2635,  0.394 ]])"
      ]
     },
     "metadata": {},
     "output_type": "display_data"
    },
    {
     "data": {
      "text/latex": [
       "The average of these distributions, $\\vec{\\pi}$, is  $\\left[\\begin{matrix}0.0751 & 0.1106 & 0.1682 & 0.2566 & 0.3894\\end{matrix}\\right]$ "
      ],
      "text/plain": [
       "<IPython.core.display.Latex object>"
      ]
     },
     "metadata": {},
     "output_type": "display_data"
    }
   ],
   "source": [
    "transition_matrix  = create_transition_matrix(p, num_of_states)\n",
    "transition_matrix  = apply_boundary_condition('semi-reflecting', transition_matrix, p)\n",
    "\n",
    "initial_parameters = [num_of_steps, num_of_records, num_of_states, num_of_samples,\n",
    "                     transition_matrix, initial_distribution_matrix]\n",
    "\n",
    "# run the test\n",
    "printltx(r\"Transition matrix $=$\" + ltxmtx(transition_matrix))\n",
    "printltx(r\"Initial distribution $=$\" + ltxmtx(initial_distribution_matrix))\n",
    "if architecture_check_passed:\n",
    "    sample_evolution_epdf = sample_evolution(initial_parameters)\n",
    "    print_conclusions(num_of_steps, num_of_records, num_of_samples, sample_evolution_epdf, 'sample_evolution')"
   ]
  },
  {
   "cell_type": "markdown",
   "metadata": {},
   "source": [
    "### Testing Matrix Multiplication Evolution"
   ]
  },
  {
   "cell_type": "markdown",
   "metadata": {},
   "source": [
    "** Absorbing Test **"
   ]
  },
  {
   "cell_type": "code",
   "execution_count": 14,
   "metadata": {
    "collapsed": false
   },
   "outputs": [
    {
     "data": {
      "text/latex": [
       "initialized tpdf =  $\\left[\\begin{matrix}0.0 & 0.0 & 1.0 & 0.0 & 0.0\\\\0.0 & 0.0 & 0.0 & 0.0 & 0.0\\\\0.0 & 0.0 & 0.0 & 0.0 & 0.0\\\\0.0 & 0.0 & 0.0 & 0.0 & 0.0\\\\0.0 & 0.0 & 0.0 & 0.0 & 0.0\\\\0.0 & 0.0 & 0.0 & 0.0 & 0.0\\\\0.0 & 0.0 & 0.0 & 0.0 & 0.0\\\\0.0 & 0.0 & 0.0 & 0.0 & 0.0\\\\0.0 & 0.0 & 0.0 & 0.0 & 0.0\\\\0.0 & 0.0 & 0.0 & 0.0 & 0.0\\end{matrix}\\right]$ "
      ],
      "text/plain": [
       "<IPython.core.display.Latex object>"
      ]
     },
     "metadata": {},
     "output_type": "display_data"
    },
    {
     "data": {
      "text/latex": [
       "I did 1000 steps. The last 10 distributions are written as below:"
      ],
      "text/plain": [
       "<IPython.core.display.Latex object>"
      ]
     },
     "metadata": {},
     "output_type": "display_data"
    },
    {
     "data": {
      "text/latex": [
       " $\\left[\\begin{matrix}0.3077 & 0.0 & 0.0 & 0.0 & 0.6923\\\\0.3077 & 0.0 & 0.0 & 0.0 & 0.6923\\\\0.3077 & 0.0 & 0.0 & 0.0 & 0.6923\\\\0.3077 & 0.0 & 0.0 & 0.0 & 0.6923\\\\0.3077 & 0.0 & 0.0 & 0.0 & 0.6923\\\\0.3077 & 0.0 & 0.0 & 0.0 & 0.6923\\\\0.3077 & 0.0 & 0.0 & 0.0 & 0.6923\\\\0.3077 & 0.0 & 0.0 & 0.0 & 0.6923\\\\0.3077 & 0.0 & 0.0 & 0.0 & 0.6923\\\\0.3077 & 0.0 & 0.0 & 0.0 & 0.6923\\end{matrix}\\right]$ "
      ],
      "text/plain": [
       "array([[  3.07692308e-001,   6.55348775e-159,   0.00000000e+000,\n",
       "          9.83023163e-159,   6.92307692e-001],\n",
       "       [  3.07692308e-001,   0.00000000e+000,   7.86418530e-159,\n",
       "          0.00000000e+000,   6.92307692e-001],\n",
       "       [  3.07692308e-001,   3.14567412e-159,   0.00000000e+000,\n",
       "          4.71851118e-159,   6.92307692e-001],\n",
       "       [  3.07692308e-001,   0.00000000e+000,   3.77480895e-159,\n",
       "          0.00000000e+000,   6.92307692e-001],\n",
       "       [  3.07692308e-001,   1.50992358e-159,   0.00000000e+000,\n",
       "          2.26488537e-159,   6.92307692e-001],\n",
       "       [  3.07692308e-001,   0.00000000e+000,   1.81190829e-159,\n",
       "          0.00000000e+000,   6.92307692e-001],\n",
       "       [  3.07692308e-001,   7.24763318e-160,   0.00000000e+000,\n",
       "          1.08714498e-159,   6.92307692e-001],\n",
       "       [  3.07692308e-001,   0.00000000e+000,   8.69715981e-160,\n",
       "          0.00000000e+000,   6.92307692e-001],\n",
       "       [  3.07692308e-001,   3.47886392e-160,   0.00000000e+000,\n",
       "          5.21829589e-160,   6.92307692e-001],\n",
       "       [  3.07692308e-001,   0.00000000e+000,   4.17463671e-160,\n",
       "          0.00000000e+000,   6.92307692e-001]])"
      ]
     },
     "metadata": {},
     "output_type": "display_data"
    },
    {
     "data": {
      "text/latex": [
       "The average of these distributions, $\\vec{\\pi}$, is  $\\left[\\begin{matrix}0.3077 & 0.0 & 0.0 & 0.0 & 0.6923\\end{matrix}\\right]$ "
      ],
      "text/plain": [
       "<IPython.core.display.Latex object>"
      ]
     },
     "metadata": {},
     "output_type": "display_data"
    }
   ],
   "source": [
    "num_of_samples     = None\n",
    "\n",
    "transition_matrix  = create_transition_matrix(p, num_of_states)\n",
    "transition_matrix  = apply_boundary_condition('absorbing', transition_matrix, p)\n",
    "\n",
    "initial_parameters = [num_of_steps, num_of_records, num_of_states,\n",
    "                     transition_matrix, initial_distribution_matrix]\n",
    "\n",
    "if architecture_check_passed:\n",
    "    matrix_multiplication_evolution_tpdf = matrix_multiplication_evolution(initial_parameters)\n",
    "    print_conclusions(num_of_steps, num_of_records, num_of_samples, matrix_multiplication_evolution_tpdf, 'matrix_multiplication_evolution')"
   ]
  },
  {
   "cell_type": "markdown",
   "metadata": {},
   "source": [
    "** Reflecting Test **"
   ]
  },
  {
   "cell_type": "code",
   "execution_count": 15,
   "metadata": {
    "collapsed": false
   },
   "outputs": [
    {
     "data": {
      "text/latex": [
       "initialized tpdf =  $\\left[\\begin{matrix}0.0 & 0.0 & 1.0 & 0.0 & 0.0\\\\0.0 & 0.0 & 0.0 & 0.0 & 0.0\\\\0.0 & 0.0 & 0.0 & 0.0 & 0.0\\\\0.0 & 0.0 & 0.0 & 0.0 & 0.0\\\\0.0 & 0.0 & 0.0 & 0.0 & 0.0\\\\0.0 & 0.0 & 0.0 & 0.0 & 0.0\\\\0.0 & 0.0 & 0.0 & 0.0 & 0.0\\\\0.0 & 0.0 & 0.0 & 0.0 & 0.0\\\\0.0 & 0.0 & 0.0 & 0.0 & 0.0\\\\0.0 & 0.0 & 0.0 & 0.0 & 0.0\\end{matrix}\\right]$ "
      ],
      "text/plain": [
       "<IPython.core.display.Latex object>"
      ]
     },
     "metadata": {},
     "output_type": "display_data"
    },
    {
     "data": {
      "text/latex": [
       "I did 1000 steps. The last 10 distributions are written as below:"
      ],
      "text/plain": [
       "<IPython.core.display.Latex object>"
      ]
     },
     "metadata": {},
     "output_type": "display_data"
    },
    {
     "data": {
      "text/latex": [
       " $\\left[\\begin{matrix}0.0 & 0.3077 & 0.0 & 0.6923 & 0.0\\\\0.1231 & 0.0 & 0.4615 & 0.0 & 0.4154\\\\0.0 & 0.3077 & 0.0 & 0.6923 & 0.0\\\\0.1231 & 0.0 & 0.4615 & 0.0 & 0.4154\\\\0.0 & 0.3077 & 0.0 & 0.6923 & 0.0\\\\0.1231 & 0.0 & 0.4615 & 0.0 & 0.4154\\\\0.0 & 0.3077 & 0.0 & 0.6923 & 0.0\\\\0.1231 & 0.0 & 0.4615 & 0.0 & 0.4154\\\\0.0 & 0.3077 & 0.0 & 0.6923 & 0.0\\\\0.1231 & 0.0 & 0.4615 & 0.0 & 0.4154\\end{matrix}\\right]$ "
      ],
      "text/plain": [
       "array([[ 0.        ,  0.30769231,  0.        ,  0.69230769,  0.        ],\n",
       "       [ 0.12307692,  0.        ,  0.46153846,  0.        ,  0.41538462],\n",
       "       [ 0.        ,  0.30769231,  0.        ,  0.69230769,  0.        ],\n",
       "       [ 0.12307692,  0.        ,  0.46153846,  0.        ,  0.41538462],\n",
       "       [ 0.        ,  0.30769231,  0.        ,  0.69230769,  0.        ],\n",
       "       [ 0.12307692,  0.        ,  0.46153846,  0.        ,  0.41538462],\n",
       "       [ 0.        ,  0.30769231,  0.        ,  0.69230769,  0.        ],\n",
       "       [ 0.12307692,  0.        ,  0.46153846,  0.        ,  0.41538462],\n",
       "       [ 0.        ,  0.30769231,  0.        ,  0.69230769,  0.        ],\n",
       "       [ 0.12307692,  0.        ,  0.46153846,  0.        ,  0.41538462]])"
      ]
     },
     "metadata": {},
     "output_type": "display_data"
    },
    {
     "data": {
      "text/latex": [
       "The average of these distributions, $\\vec{\\pi}$, is  $\\left[\\begin{matrix}0.0615 & 0.1538 & 0.2308 & 0.3462 & 0.2077\\end{matrix}\\right]$ "
      ],
      "text/plain": [
       "<IPython.core.display.Latex object>"
      ]
     },
     "metadata": {},
     "output_type": "display_data"
    }
   ],
   "source": [
    "num_of_samples     = None\n",
    "\n",
    "transition_matrix  = create_transition_matrix(p, num_of_states)\n",
    "transition_matrix  = apply_boundary_condition('reflecting', transition_matrix, p)\n",
    "\n",
    "initial_parameters = [num_of_steps, num_of_records, num_of_states,\n",
    "                     transition_matrix, initial_distribution_matrix]\n",
    "\n",
    "if architecture_check_passed:\n",
    "    matrix_multiplication_evolution_tpdf = matrix_multiplication_evolution(initial_parameters)\n",
    "    print_conclusions(num_of_steps, num_of_records, num_of_samples, matrix_multiplication_evolution_tpdf, 'matrix_multiplication_evolution')"
   ]
  },
  {
   "cell_type": "markdown",
   "metadata": {},
   "source": [
    "** Semi-Reflecting Test **"
   ]
  },
  {
   "cell_type": "code",
   "execution_count": 16,
   "metadata": {
    "collapsed": false
   },
   "outputs": [
    {
     "data": {
      "text/latex": [
       "initialized tpdf =  $\\left[\\begin{matrix}0.0 & 0.0 & 1.0 & 0.0 & 0.0\\\\0.0 & 0.0 & 0.0 & 0.0 & 0.0\\\\0.0 & 0.0 & 0.0 & 0.0 & 0.0\\\\0.0 & 0.0 & 0.0 & 0.0 & 0.0\\\\0.0 & 0.0 & 0.0 & 0.0 & 0.0\\\\0.0 & 0.0 & 0.0 & 0.0 & 0.0\\\\0.0 & 0.0 & 0.0 & 0.0 & 0.0\\\\0.0 & 0.0 & 0.0 & 0.0 & 0.0\\\\0.0 & 0.0 & 0.0 & 0.0 & 0.0\\\\0.0 & 0.0 & 0.0 & 0.0 & 0.0\\end{matrix}\\right]$ "
      ],
      "text/plain": [
       "<IPython.core.display.Latex object>"
      ]
     },
     "metadata": {},
     "output_type": "display_data"
    },
    {
     "data": {
      "text/latex": [
       "I did 1000 steps. The last 10 distributions are written as below:"
      ],
      "text/plain": [
       "<IPython.core.display.Latex object>"
      ]
     },
     "metadata": {},
     "output_type": "display_data"
    },
    {
     "data": {
      "text/latex": [
       " $\\left[\\begin{matrix}0.0758 & 0.1137 & 0.1706 & 0.2559 & 0.3839\\\\0.0758 & 0.1137 & 0.1706 & 0.2559 & 0.3839\\\\0.0758 & 0.1137 & 0.1706 & 0.2559 & 0.3839\\\\0.0758 & 0.1137 & 0.1706 & 0.2559 & 0.3839\\\\0.0758 & 0.1137 & 0.1706 & 0.2559 & 0.3839\\\\0.0758 & 0.1137 & 0.1706 & 0.2559 & 0.3839\\\\0.0758 & 0.1137 & 0.1706 & 0.2559 & 0.3839\\\\0.0758 & 0.1137 & 0.1706 & 0.2559 & 0.3839\\\\0.0758 & 0.1137 & 0.1706 & 0.2559 & 0.3839\\\\0.0758 & 0.1137 & 0.1706 & 0.2559 & 0.3839\\end{matrix}\\right]$ "
      ],
      "text/plain": [
       "array([[ 0.07582938,  0.11374408,  0.17061611,  0.25592417,  0.38388626],\n",
       "       [ 0.07582938,  0.11374408,  0.17061611,  0.25592417,  0.38388626],\n",
       "       [ 0.07582938,  0.11374408,  0.17061611,  0.25592417,  0.38388626],\n",
       "       [ 0.07582938,  0.11374408,  0.17061611,  0.25592417,  0.38388626],\n",
       "       [ 0.07582938,  0.11374408,  0.17061611,  0.25592417,  0.38388626],\n",
       "       [ 0.07582938,  0.11374408,  0.17061611,  0.25592417,  0.38388626],\n",
       "       [ 0.07582938,  0.11374408,  0.17061611,  0.25592417,  0.38388626],\n",
       "       [ 0.07582938,  0.11374408,  0.17061611,  0.25592417,  0.38388626],\n",
       "       [ 0.07582938,  0.11374408,  0.17061611,  0.25592417,  0.38388626],\n",
       "       [ 0.07582938,  0.11374408,  0.17061611,  0.25592417,  0.38388626]])"
      ]
     },
     "metadata": {},
     "output_type": "display_data"
    },
    {
     "data": {
      "text/latex": [
       "The average of these distributions, $\\vec{\\pi}$, is  $\\left[\\begin{matrix}0.0758 & 0.1137 & 0.1706 & 0.2559 & 0.3839\\end{matrix}\\right]$ "
      ],
      "text/plain": [
       "<IPython.core.display.Latex object>"
      ]
     },
     "metadata": {},
     "output_type": "display_data"
    }
   ],
   "source": [
    "num_of_samples     = None\n",
    "\n",
    "transition_matrix  = create_transition_matrix(p, num_of_states)\n",
    "transition_matrix  = apply_boundary_condition('semi-reflecting', transition_matrix, p)\n",
    "\n",
    "initial_parameters = [num_of_steps, num_of_records, num_of_states,\n",
    "                     transition_matrix, initial_distribution_matrix]\n",
    "\n",
    "if architecture_check_passed:\n",
    "    matrix_multiplication_evolution_tpdf = matrix_multiplication_evolution(initial_parameters)\n",
    "    print_conclusions(num_of_steps, num_of_records, num_of_samples, matrix_multiplication_evolution_tpdf, 'matrix_multiplication_evolution')"
   ]
  },
  {
   "cell_type": "markdown",
   "metadata": {},
   "source": [
    "### Testing Eigen Future"
   ]
  },
  {
   "cell_type": "markdown",
   "metadata": {},
   "source": [
    "** Absorbing Test **"
   ]
  },
  {
   "cell_type": "code",
   "execution_count": 17,
   "metadata": {
    "collapsed": false
   },
   "outputs": [
    {
     "data": {
      "text/latex": [
       "The analysis via eigenvectors says that, in the long run, this sytem should oscillate through the distributions below."
      ],
      "text/plain": [
       "<IPython.core.display.Latex object>"
      ]
     },
     "metadata": {},
     "output_type": "display_data"
    },
    {
     "data": {
      "text/latex": [
       " $\\left[\\begin{matrix}0.3077 & 0.0 & 0.0 & 0.0 & 0.6923\\\\0.3077 & 0.0 & 0.0 & 0.0 & 0.6923\\end{matrix}\\right]$ "
      ],
      "text/plain": [
       "array([[ 0.30769231,  0.        ,  0.        ,  0.        ,  0.69230769],\n",
       "       [ 0.30769231,  0.        ,  0.        ,  0.        ,  0.69230769]])"
      ]
     },
     "metadata": {},
     "output_type": "display_data"
    },
    {
     "data": {
      "text/latex": [
       "The average of these distributions is  $\\left[\\begin{matrix}0.3077 & 0.0 & 0.0 & 0.0 & 0.6923\\end{matrix}\\right]$ "
      ],
      "text/plain": [
       "<IPython.core.display.Latex object>"
      ]
     },
     "metadata": {},
     "output_type": "display_data"
    }
   ],
   "source": [
    "num_of_steps      = None\n",
    "num_of_records    = None\n",
    "num_of_samples    = None\n",
    "\n",
    "transition_matrix = create_transition_matrix(p, num_of_states)\n",
    "transition_matrix = apply_boundary_condition('absorbing', transition_matrix, p)\n",
    "\n",
    "if architecture_check_passed:\n",
    "    left_eigenvectors = eigen_future(transition_matrix, initial_distribution_matrix)\n",
    "    print_conclusions(num_of_steps, num_of_records, num_of_samples, left_eigenvectors, 'eigen_future')"
   ]
  },
  {
   "cell_type": "markdown",
   "metadata": {},
   "source": [
    "** Reflecting Test **"
   ]
  },
  {
   "cell_type": "code",
   "execution_count": 18,
   "metadata": {
    "collapsed": false
   },
   "outputs": [
    {
     "data": {
      "text/latex": [
       "The analysis via eigenvectors says that, in the long run, this sytem should oscillate through the distributions below."
      ],
      "text/plain": [
       "<IPython.core.display.Latex object>"
      ]
     },
     "metadata": {},
     "output_type": "display_data"
    },
    {
     "data": {
      "text/latex": [
       " $\\left[\\begin{matrix}0.0 & 0.3077 & 0.0 & 0.6923 & 0.0\\\\0.1231 & 0.0 & 0.4615 & 0.0 & 0.4154\\end{matrix}\\right]$ "
      ],
      "text/plain": [
       "array([[ -1.52655666e-16,   3.07692308e-01,  -7.49400542e-16,\n",
       "          6.92307692e-01,  -2.77555756e-17],\n",
       "       [  1.23076923e-01,  -5.82867088e-16,   4.61538462e-01,\n",
       "         -7.77156117e-16,   4.15384615e-01]])"
      ]
     },
     "metadata": {},
     "output_type": "display_data"
    },
    {
     "data": {
      "text/latex": [
       "The average of these distributions is  $\\left[\\begin{matrix}0.0615 & 0.1538 & 0.2308 & 0.3462 & 0.2077\\end{matrix}\\right]$ "
      ],
      "text/plain": [
       "<IPython.core.display.Latex object>"
      ]
     },
     "metadata": {},
     "output_type": "display_data"
    }
   ],
   "source": [
    "num_of_steps      = None\n",
    "num_of_records    = None\n",
    "num_of_samples    = None\n",
    "\n",
    "transition_matrix = create_transition_matrix(p, num_of_states)\n",
    "transition_matrix = apply_boundary_condition('reflecting', transition_matrix, p)\n",
    "\n",
    "if architecture_check_passed:\n",
    "    left_eigenvectors = eigen_future(transition_matrix, initial_distribution_matrix)\n",
    "    print_conclusions(num_of_steps, num_of_records, num_of_samples, left_eigenvectors, 'eigen_future')"
   ]
  },
  {
   "cell_type": "markdown",
   "metadata": {},
   "source": [
    "** Semi-Reflecting Test **"
   ]
  },
  {
   "cell_type": "code",
   "execution_count": 19,
   "metadata": {
    "collapsed": false
   },
   "outputs": [
    {
     "data": {
      "text/latex": [
       "The analysis via eigenvectors says that, in the long run, this sytem should oscillate through the distributions below."
      ],
      "text/plain": [
       "<IPython.core.display.Latex object>"
      ]
     },
     "metadata": {},
     "output_type": "display_data"
    },
    {
     "data": {
      "text/latex": [
       " $\\left[\\begin{matrix}0.0758 & 0.1137 & 0.1706 & 0.2559 & 0.3839\\end{matrix}\\right]$ "
      ],
      "text/plain": [
       "array([[ 0.07582938,  0.11374408,  0.17061611,  0.25592417,  0.38388626]])"
      ]
     },
     "metadata": {},
     "output_type": "display_data"
    },
    {
     "data": {
      "text/latex": [
       "The average of these distributions is  $\\left[\\begin{matrix}0.0758 & 0.1137 & 0.1706 & 0.2559 & 0.3839\\end{matrix}\\right]$ "
      ],
      "text/plain": [
       "<IPython.core.display.Latex object>"
      ]
     },
     "metadata": {},
     "output_type": "display_data"
    }
   ],
   "source": [
    "num_of_steps      = None\n",
    "num_of_records    = None\n",
    "num_of_samples    = None\n",
    "\n",
    "transition_matrix = create_transition_matrix(p, num_of_states)\n",
    "transition_matrix = apply_boundary_condition('semi-reflecting', transition_matrix, p)\n",
    "\n",
    "if architecture_check_passed:\n",
    "    left_eigenvectors = eigen_future(transition_matrix, initial_distribution_matrix)\n",
    "    print_conclusions(num_of_steps, num_of_records, num_of_samples, left_eigenvectors, 'eigen_future')"
   ]
  },
  {
   "cell_type": "markdown",
   "metadata": {},
   "source": [
    "## Conclusions and Interpretations\n",
    "\n",
    "It appears that using any method with a chosen boundary condition will yield approximately similar results. In regards to the boundary conditions, semi-reflecting produced a nice and stable distribution that was spread out across all states. Reflecting would oscillate between two distributions, and the absorbing condition forced all samples to be stuck at the boundaries."
   ]
  }
 ],
 "metadata": {
  "kernelspec": {
   "display_name": "Python 3",
   "language": "python",
   "name": "python3"
  },
  "language_info": {
   "codemirror_mode": {
    "name": "ipython",
    "version": 3
   },
   "file_extension": ".py",
   "mimetype": "text/x-python",
   "name": "python",
   "nbconvert_exporter": "python",
   "pygments_lexer": "ipython3",
   "version": "3.5.1"
  }
 },
 "nbformat": 4,
 "nbformat_minor": 0
}
