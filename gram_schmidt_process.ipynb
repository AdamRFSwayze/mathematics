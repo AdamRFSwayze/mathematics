{
 "cells": [
  {
   "cell_type": "markdown",
   "metadata": {},
   "source": [
    "# Gram-Schmidt Process"
   ]
  },
  {
   "cell_type": "markdown",
   "metadata": {},
   "source": [
    "## Intro and Intuition\n",
    "\n",
    "The Gram-Schmidt process is a way to orthonormalize an arbitrary basis. Why does this matter? Although any basis is \"good\", having an orthonormal basis is the easiest basis to work with as it's super easy to obtain coefficients of a vector with respect to this orthonormal basis by calculating the inner product of the vector with each orthonormal vector in the basis:\n",
    "$\\vec{v} = \\langle \\vec{v}, \\vec{e}_1 \\rangle \\vec{e}_1 + \\langle \\vec{v}, \\vec{e}_2 \\rangle \\vec{e}_2 + \\langle \\vec{v}, \\vec{e}_3 \\rangle \\vec{e}_3$.\n",
    "\n",
    "Below is a visualization of the Gram-Schmidt process that will hopefully aid intuition:\n",
    "![Gram-Schmidt gif](https://upload.wikimedia.org/wikipedia/commons/e/ee/Gram-Schmidt_orthonormalization_process.gif)"
   ]
  },
  {
   "cell_type": "markdown",
   "metadata": {},
   "source": [
    "## Confirming a Basis"
   ]
  },
  {
   "cell_type": "code",
   "execution_count": 1,
   "metadata": {
    "collapsed": true
   },
   "outputs": [],
   "source": [
    "from IPython.display import display\n",
    "from sympy import *\n",
    "init_printing()"
   ]
  },
  {
   "cell_type": "markdown",
   "metadata": {},
   "source": [
    "Now we choose a set of vectors that form a basis. Recall that since this set of vectors form a basis for a space, each vector represents a single direction in said space."
   ]
  },
  {
   "cell_type": "code",
   "execution_count": 2,
   "metadata": {
    "collapsed": false
   },
   "outputs": [],
   "source": [
    "v1 = Matrix([1, 1, 1, 1])\n",
    "v2 = Matrix([0, 1, 1, 1])\n",
    "v3 = Matrix([0, 0, 1, 1])\n",
    "basis = [v1, v2, v3]\n",
    "n = len(basis)\n",
    "m = len(v1)"
   ]
  },
  {
   "cell_type": "markdown",
   "metadata": {},
   "source": [
    "Let's verify linear independence by putting the transpose of the vectors in a matrix and row-reducing it."
   ]
  },
  {
   "cell_type": "code",
   "execution_count": 3,
   "metadata": {
    "collapsed": false
   },
   "outputs": [
    {
     "data": {
      "image/png": "[encoded data removed]",
      "text/latex": [
       "$$\\left ( \\left[\\begin{matrix}1 & 0 & 0\\\\0 & 1 & 0\\\\0 & 0 & 1\\\\0 & 0 & 0\\end{matrix}\\right], \\quad \\left [ 0, \\quad 1, \\quad 2\\right ]\\right )$$"
      ],
      "text/plain": [
       "⎛⎡1  0  0⎤, [0, 1, 2]⎞\n",
       "⎜⎢       ⎥           ⎟\n",
       "⎜⎢0  1  0⎥           ⎟\n",
       "⎜⎢       ⎥           ⎟\n",
       "⎜⎢0  0  1⎥           ⎟\n",
       "⎜⎢       ⎥           ⎟\n",
       "⎝⎣0  0  0⎦           ⎠"
      ]
     },
     "execution_count": 3,
     "metadata": {},
     "output_type": "execute_result"
    }
   ],
   "source": [
    "M = Matrix([[1, 0, 0], [1, 1, 0], [1, 1, 1], [1, 1, 1]])\n",
    "M.rref()"
   ]
  },
  {
   "cell_type": "markdown",
   "metadata": {},
   "source": [
    "Cool, looks like we have pivots in each column so this set of vectors is linearly independent and we know it also spans $\\mathbb{R}^3$ by the Rank-Nullity Theorem so we've got ourselves an arbirary basis!"
   ]
  },
  {
   "cell_type": "markdown",
   "metadata": {},
   "source": [
    "## The Algorithm\n",
    "Now to convert this basis into an orthonormal basis using the Gram-Schmidt Process. Mathematically speaking, the process is as follows:\n",
    "![Gram-Schmidt algo](https://en.wikipedia.org/api/rest_v1/media/math/render/svg/f0bb38a101197ba3cfcf1341b87c0787a7a57bb3)\n",
    "with the projection equation being:\n",
    "![projection equation](https://en.wikipedia.org/api/rest_v1/media/math/render/svg/c0221c78b42c32d0685273dac12d923fa9048051)\n",
    "\n",
    "\n",
    "The first step is easy - the first vector in your arbitrary basis is going to be the first orthogonal vector."
   ]
  },
  {
   "cell_type": "code",
   "execution_count": 4,
   "metadata": {
    "collapsed": false
   },
   "outputs": [
    {
     "data": {
      "image/png": "[encoded data removed]",
      "text/latex": [
       "$$\\left [ \\left[\\begin{matrix}1\\\\1\\\\1\\\\1\\end{matrix}\\right]\\right ]$$"
      ],
      "text/plain": [
       "⎡⎡1⎤⎤\n",
       "⎢⎢ ⎥⎥\n",
       "⎢⎢1⎥⎥\n",
       "⎢⎢ ⎥⎥\n",
       "⎢⎢1⎥⎥\n",
       "⎢⎢ ⎥⎥\n",
       "⎣⎣1⎦⎦"
      ]
     },
     "execution_count": 4,
     "metadata": {},
     "output_type": "execute_result"
    }
   ],
   "source": [
    "orthogonal_vectors = []\n",
    "orthogonal_vectors.append(basis[0])\n",
    "orthogonal_vectors"
   ]
  },
  {
   "cell_type": "markdown",
   "metadata": {},
   "source": [
    "Now we need to project each vector in the arbitrary basis onto the subspace and only keep the orthgonal piece of the vector by subtracting the projection from the vector."
   ]
  },
  {
   "cell_type": "code",
   "execution_count": 5,
   "metadata": {
    "collapsed": false,
    "scrolled": true
   },
   "outputs": [
    {
     "name": "stdout",
     "output_type": "stream",
     "text": [
      "---------------------------------------------------\n",
      "original vector:\n"
     ]
    },
    {
     "data": {
      "image/png": "[encoded data removed]",
      "text/latex": [
       "$$\\left[\\begin{matrix}0\\\\1\\\\1\\\\1\\end{matrix}\\right]$$"
      ],
      "text/plain": [
       "⎡0⎤\n",
       "⎢ ⎥\n",
       "⎢1⎥\n",
       "⎢ ⎥\n",
       "⎢1⎥\n",
       "⎢ ⎥\n",
       "⎣1⎦"
      ]
     },
     "metadata": {},
     "output_type": "display_data"
    },
    {
     "name": "stdout",
     "output_type": "stream",
     "text": [
      "projection onto subspace:\n"
     ]
    },
    {
     "data": {
      "image/png": "[encoded data removed]",
      "text/latex": [
       "$$\\left[\\begin{matrix}\\frac{3}{4}\\\\\\frac{3}{4}\\\\\\frac{3}{4}\\\\\\frac{3}{4}\\end{matrix}\\right]$$"
      ],
      "text/plain": [
       "⎡3/4⎤\n",
       "⎢   ⎥\n",
       "⎢3/4⎥\n",
       "⎢   ⎥\n",
       "⎢3/4⎥\n",
       "⎢   ⎥\n",
       "⎣3/4⎦"
      ]
     },
     "metadata": {},
     "output_type": "display_data"
    },
    {
     "name": "stdout",
     "output_type": "stream",
     "text": [
      "orthogonal vector:\n"
     ]
    },
    {
     "data": {
      "image/png": "[encoded data removed]",
      "text/latex": [
       "$$\\left[\\begin{matrix}- \\frac{3}{4}\\\\\\frac{1}{4}\\\\\\frac{1}{4}\\\\\\frac{1}{4}\\end{matrix}\\right]$$"
      ],
      "text/plain": [
       "⎡-3/4⎤\n",
       "⎢    ⎥\n",
       "⎢1/4 ⎥\n",
       "⎢    ⎥\n",
       "⎢1/4 ⎥\n",
       "⎢    ⎥\n",
       "⎣1/4 ⎦"
      ]
     },
     "metadata": {},
     "output_type": "display_data"
    },
    {
     "name": "stdout",
     "output_type": "stream",
     "text": [
      "---------------------------------------------------\n",
      "original vector:\n"
     ]
    },
    {
     "data": {
      "image/png": "[encoded data removed]",
      "text/latex": [
       "$$\\left[\\begin{matrix}0\\\\0\\\\1\\\\1\\end{matrix}\\right]$$"
      ],
      "text/plain": [
       "⎡0⎤\n",
       "⎢ ⎥\n",
       "⎢0⎥\n",
       "⎢ ⎥\n",
       "⎢1⎥\n",
       "⎢ ⎥\n",
       "⎣1⎦"
      ]
     },
     "metadata": {},
     "output_type": "display_data"
    },
    {
     "name": "stdout",
     "output_type": "stream",
     "text": [
      "projection onto subspace:\n"
     ]
    },
    {
     "data": {
      "image/png": "[encoded data removed]",
      "text/latex": [
       "$$\\left[\\begin{matrix}0\\\\\\frac{2}{3}\\\\\\frac{2}{3}\\\\\\frac{2}{3}\\end{matrix}\\right]$$"
      ],
      "text/plain": [
       "⎡ 0 ⎤\n",
       "⎢   ⎥\n",
       "⎢2/3⎥\n",
       "⎢   ⎥\n",
       "⎢2/3⎥\n",
       "⎢   ⎥\n",
       "⎣2/3⎦"
      ]
     },
     "metadata": {},
     "output_type": "display_data"
    },
    {
     "name": "stdout",
     "output_type": "stream",
     "text": [
      "orthogonal vector:\n"
     ]
    },
    {
     "data": {
      "image/png": "[encoded data removed]",
      "text/latex": [
       "$$\\left[\\begin{matrix}0\\\\- \\frac{2}{3}\\\\\\frac{1}{3}\\\\\\frac{1}{3}\\end{matrix}\\right]$$"
      ],
      "text/plain": [
       "⎡ 0  ⎤\n",
       "⎢    ⎥\n",
       "⎢-2/3⎥\n",
       "⎢    ⎥\n",
       "⎢1/3 ⎥\n",
       "⎢    ⎥\n",
       "⎣1/3 ⎦"
      ]
     },
     "metadata": {},
     "output_type": "display_data"
    },
    {
     "name": "stdout",
     "output_type": "stream",
     "text": [
      "---------------------------------------------------\n"
     ]
    }
   ],
   "source": [
    "# orthogonal projection onto subspace\n",
    "gram_schmidt_process_log = []\n",
    "for vector in basis[1:]:\n",
    "    # initial projection vector - this is just a programming thing\n",
    "    projection_onto_subspace = zeros(m, 1)\n",
    "    # perform the projection process\n",
    "    for orthogonal_vector in orthogonal_vectors:\n",
    "        projection_onto_subspace = projection_onto_subspace + \\\n",
    "                                   (vector.dot(orthogonal_vector) / orthogonal_vector.dot(orthogonal_vector)) \\\n",
    "                                   * orthogonal_vector        \n",
    "    orthogonal_vector = vector - projection_onto_subspace\n",
    "    orthogonal_vectors.append(orthogonal_vector)\n",
    "    gram_schmidt_process_log.append([vector, projection_onto_subspace, orthogonal_vector])\n",
    "    \n",
    "print('---------------------------------------------------')\n",
    "for vector, projection_onto_subspace, orthogonal_vector in gram_schmidt_process_log:\n",
    "    print(\"original vector:\")\n",
    "    display(vector)\n",
    "    print(\"projection onto subspace:\")\n",
    "    display(projection_onto_subspace)\n",
    "    print(\"orthogonal vector:\")\n",
    "    display(orthogonal_vector)\n",
    "    print('---------------------------------------------------')"
   ]
  },
  {
   "cell_type": "markdown",
   "metadata": {},
   "source": [
    "We now have an orthogonal set of vectors:"
   ]
  },
  {
   "cell_type": "code",
   "execution_count": 6,
   "metadata": {
    "collapsed": false
   },
   "outputs": [
    {
     "data": {
      "image/png": "[encoded data removed]",
      "text/latex": [
       "$$\\left [ \\left[\\begin{matrix}1\\\\1\\\\1\\\\1\\end{matrix}\\right], \\quad \\left[\\begin{matrix}- \\frac{3}{4}\\\\\\frac{1}{4}\\\\\\frac{1}{4}\\\\\\frac{1}{4}\\end{matrix}\\right], \\quad \\left[\\begin{matrix}0\\\\- \\frac{2}{3}\\\\\\frac{1}{3}\\\\\\frac{1}{3}\\end{matrix}\\right]\\right ]$$"
      ],
      "text/plain": [
       "⎡⎡1⎤, ⎡-3/4⎤, ⎡ 0  ⎤⎤\n",
       "⎢⎢ ⎥  ⎢    ⎥  ⎢    ⎥⎥\n",
       "⎢⎢1⎥  ⎢1/4 ⎥  ⎢-2/3⎥⎥\n",
       "⎢⎢ ⎥  ⎢    ⎥  ⎢    ⎥⎥\n",
       "⎢⎢1⎥  ⎢1/4 ⎥  ⎢1/3 ⎥⎥\n",
       "⎢⎢ ⎥  ⎢    ⎥  ⎢    ⎥⎥\n",
       "⎣⎣1⎦  ⎣1/4 ⎦  ⎣1/3 ⎦⎦"
      ]
     },
     "execution_count": 6,
     "metadata": {},
     "output_type": "execute_result"
    }
   ],
   "source": [
    "orthogonal_vectors"
   ]
  },
  {
   "cell_type": "markdown",
   "metadata": {},
   "source": [
    "To make this set of vectors orthonormal, all we need to do is divide each vector by its magnitude/norm."
   ]
  },
  {
   "cell_type": "code",
   "execution_count": 7,
   "metadata": {
    "collapsed": false
   },
   "outputs": [
    {
     "data": {
      "image/png": "[encoded data removed]",
      "text/latex": [
       "$$\\left [ \\left[\\begin{matrix}\\frac{1}{2}\\\\\\frac{1}{2}\\\\\\frac{1}{2}\\\\\\frac{1}{2}\\end{matrix}\\right], \\quad \\left[\\begin{matrix}- \\frac{\\sqrt{3}}{2}\\\\\\frac{\\sqrt{3}}{6}\\\\\\frac{\\sqrt{3}}{6}\\\\\\frac{\\sqrt{3}}{6}\\end{matrix}\\right], \\quad \\left[\\begin{matrix}0\\\\- \\frac{\\sqrt{6}}{3}\\\\\\frac{\\sqrt{6}}{6}\\\\\\frac{\\sqrt{6}}{6}\\end{matrix}\\right]\\right ]$$"
      ],
      "text/plain": [
       "⎡       ⎡-√3 ⎤        ⎤\n",
       "⎢⎡1/2⎤, ⎢────⎥, ⎡ 0  ⎤⎥\n",
       "⎢⎢   ⎥  ⎢ 2  ⎥  ⎢    ⎥⎥\n",
       "⎢⎢1/2⎥  ⎢    ⎥  ⎢-√6 ⎥⎥\n",
       "⎢⎢   ⎥  ⎢ √3 ⎥  ⎢────⎥⎥\n",
       "⎢⎢1/2⎥  ⎢ ── ⎥  ⎢ 3  ⎥⎥\n",
       "⎢⎢   ⎥  ⎢ 6  ⎥  ⎢    ⎥⎥\n",
       "⎢⎣1/2⎦  ⎢    ⎥  ⎢ √6 ⎥⎥\n",
       "⎢       ⎢ √3 ⎥  ⎢ ── ⎥⎥\n",
       "⎢       ⎢ ── ⎥  ⎢ 6  ⎥⎥\n",
       "⎢       ⎢ 6  ⎥  ⎢    ⎥⎥\n",
       "⎢       ⎢    ⎥  ⎢ √6 ⎥⎥\n",
       "⎢       ⎢ √3 ⎥  ⎢ ── ⎥⎥\n",
       "⎢       ⎢ ── ⎥  ⎣ 6  ⎦⎥\n",
       "⎣       ⎣ 6  ⎦        ⎦"
      ]
     },
     "execution_count": 7,
     "metadata": {},
     "output_type": "execute_result"
    }
   ],
   "source": [
    "orthonormal_vectors = []\n",
    "for orthogonal_vector in orthogonal_vectors:\n",
    "    orthogonal_vector_length = orthogonal_vector.norm()\n",
    "    orthonormal_vectors.append(orthogonal_vector / orthogonal_vector_length)\n",
    "    \n",
    "orthonormal_vectors"
   ]
  },
  {
   "cell_type": "markdown",
   "metadata": {},
   "source": [
    "Awesome! We now have an orthonormal basis to work with all created from plain-jane basis.\n",
    "\n",
    "Now the cool thing is that sympy has all this built into one function. Then why did we write it all by hand? So that we could truly understand how the Gram-Schmidt algorithm worked. And now that we do, we can let someone else's code handle the work. Let's see this in action:"
   ]
  },
  {
   "cell_type": "code",
   "execution_count": 8,
   "metadata": {
    "collapsed": false
   },
   "outputs": [
    {
     "data": {
      "image/png": "[encoded data removed]",
      "text/latex": [
       "$$\\left [ \\left[\\begin{matrix}\\frac{1}{2}\\\\\\frac{1}{2}\\\\\\frac{1}{2}\\\\\\frac{1}{2}\\end{matrix}\\right], \\quad \\left[\\begin{matrix}- \\frac{\\sqrt{3}}{2}\\\\\\frac{\\sqrt{3}}{6}\\\\\\frac{\\sqrt{3}}{6}\\\\\\frac{\\sqrt{3}}{6}\\end{matrix}\\right], \\quad \\left[\\begin{matrix}0\\\\- \\frac{\\sqrt{6}}{3}\\\\\\frac{\\sqrt{6}}{6}\\\\\\frac{\\sqrt{6}}{6}\\end{matrix}\\right]\\right ]$$"
      ],
      "text/plain": [
       "⎡       ⎡-√3 ⎤        ⎤\n",
       "⎢⎡1/2⎤, ⎢────⎥, ⎡ 0  ⎤⎥\n",
       "⎢⎢   ⎥  ⎢ 2  ⎥  ⎢    ⎥⎥\n",
       "⎢⎢1/2⎥  ⎢    ⎥  ⎢-√6 ⎥⎥\n",
       "⎢⎢   ⎥  ⎢ √3 ⎥  ⎢────⎥⎥\n",
       "⎢⎢1/2⎥  ⎢ ── ⎥  ⎢ 3  ⎥⎥\n",
       "⎢⎢   ⎥  ⎢ 6  ⎥  ⎢    ⎥⎥\n",
       "⎢⎣1/2⎦  ⎢    ⎥  ⎢ √6 ⎥⎥\n",
       "⎢       ⎢ √3 ⎥  ⎢ ── ⎥⎥\n",
       "⎢       ⎢ ── ⎥  ⎢ 6  ⎥⎥\n",
       "⎢       ⎢ 6  ⎥  ⎢    ⎥⎥\n",
       "⎢       ⎢    ⎥  ⎢ √6 ⎥⎥\n",
       "⎢       ⎢ √3 ⎥  ⎢ ── ⎥⎥\n",
       "⎢       ⎢ ── ⎥  ⎣ 6  ⎦⎥\n",
       "⎣       ⎣ 6  ⎦        ⎦"
      ]
     },
     "execution_count": 8,
     "metadata": {},
     "output_type": "execute_result"
    }
   ],
   "source": [
    "basis = [v1, v2, v3]\n",
    "orthonormal_basis = GramSchmidt(basis, True)\n",
    "orthonormal_basis"
   ]
  },
  {
   "cell_type": "markdown",
   "metadata": {},
   "source": [
    "Looks like we got the same results and with far less code! The \"True\" parameter tells sympy to normalize the returned vectors instead of just leaving them orthogonalized."
   ]
  }
 ],
 "metadata": {
  "kernelspec": {
   "display_name": "Python 2",
   "language": "python",
   "name": "python2"
  },
  "language_info": {
   "codemirror_mode": {
    "name": "ipython",
    "version": 2
   },
   "file_extension": ".py",
   "mimetype": "text/x-python",
   "name": "python",
   "nbconvert_exporter": "python",
   "pygments_lexer": "ipython2",
   "version": "2.7.11"
  }
 },
 "nbformat": 4,
 "nbformat_minor": 0
}
